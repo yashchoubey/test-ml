{
  "nbformat": 4,
  "nbformat_minor": 0,
  "metadata": {
    "colab": {
      "name": "hotel.ipynb",
      "version": "0.3.2",
      "views": {},
      "default_view": {},
      "provenance": [],
      "collapsed_sections": []
    },
    "kernelspec": {
      "display_name": "Python 2",
      "language": "python",
      "name": "python2"
    },
    "accelerator": "GPU"
  },
  "cells": [
    {
      "metadata": {
        "id": "ogmC919pA5oS",
        "colab_type": "code",
        "colab": {
          "autoexec": {
            "startup": false,
            "wait_interval": 0
          },
          "base_uri": "https://localhost:8080/",
          "height": 406
        },
        "outputId": "025a60b3-4ccb-4834-a260-bd121b49f4e6",
        "executionInfo": {
          "status": "ok",
          "timestamp": 1528717525017,
          "user_tz": -330,
          "elapsed": 42329,
          "user": {
            "displayName": "Yash Choubey",
            "photoUrl": "//lh5.googleusercontent.com/-UBdihS33LU4/AAAAAAAAAAI/AAAAAAAAEIA/Xb_W4xj5Wys/s50-c-k-no/photo.jpg",
            "userId": "116223453474966761812"
          }
        }
      },
      "cell_type": "code",
      "source": [
        "!wget https://s3.ap-south-1.amazonaws.com/discovery-nlp-data/embd.dat\n",
        "!wget https://s3.ap-south-1.amazonaws.com/discovery-nlp-data/dataset.csv"
      ],
      "execution_count": 1,
      "outputs": [
        {
          "output_type": "stream",
          "text": [
            "--2018-06-11 11:44:44--  https://s3.ap-south-1.amazonaws.com/discovery-nlp-data/embd.dat\n",
            "Resolving s3.ap-south-1.amazonaws.com (s3.ap-south-1.amazonaws.com)... 52.219.64.45\n",
            "Connecting to s3.ap-south-1.amazonaws.com (s3.ap-south-1.amazonaws.com)|52.219.64.45|:443... connected.\n",
            "HTTP request sent, awaiting response... 200 OK\n",
            "Length: 8762536 (8.4M) [binary/octet-stream]\n",
            "Saving to: ‘embd.dat’\n",
            "\n",
            "embd.dat            100%[===================>]   8.36M   929KB/s    in 33s     \n",
            "\n",
            "2018-06-11 11:45:18 (259 KB/s) - ‘embd.dat’ saved [8762536/8762536]\n",
            "\n",
            "--2018-06-11 11:45:19--  https://s3.ap-south-1.amazonaws.com/discovery-nlp-data/dataset.csv\n",
            "Resolving s3.ap-south-1.amazonaws.com (s3.ap-south-1.amazonaws.com)... 52.219.64.17\n",
            "Connecting to s3.ap-south-1.amazonaws.com (s3.ap-south-1.amazonaws.com)|52.219.64.17|:443... connected.\n",
            "HTTP request sent, awaiting response... 200 OK\n",
            "Length: 170631 (167K) [text/csv]\n",
            "Saving to: ‘dataset.csv’\n",
            "\n",
            "dataset.csv         100%[===================>] 166.63K  40.1KB/s    in 4.2s    \n",
            "\n",
            "2018-06-11 11:45:24 (40.1 KB/s) - ‘dataset.csv’ saved [170631/170631]\n",
            "\n"
          ],
          "name": "stdout"
        }
      ]
    },
    {
      "metadata": {
        "id": "U54yg4lCg4Mv",
        "colab_type": "code",
        "colab": {
          "autoexec": {
            "startup": false,
            "wait_interval": 0
          }
        }
      },
      "cell_type": "code",
      "source": [
        "import pandas as pd\n",
        "import numpy as np\n",
        "import re\n",
        "df = pd.read_csv('dataset.csv',sep=\",\",header=None ,names=['sentence','type'])\n",
        "\n",
        "embedding_matrix=np.load(\"embd.dat\")"
      ],
      "execution_count": 0,
      "outputs": []
    },
    {
      "metadata": {
        "id": "NCQmVq5DVOyF",
        "colab_type": "code",
        "colab": {
          "autoexec": {
            "startup": false,
            "wait_interval": 0
          },
          "base_uri": "https://localhost:8080/",
          "height": 35
        },
        "outputId": "226dc5c5-3608-4abe-c142-70b71bb5c7f4",
        "executionInfo": {
          "status": "ok",
          "timestamp": 1528717534434,
          "user_tz": -330,
          "elapsed": 8094,
          "user": {
            "displayName": "Yash Choubey",
            "photoUrl": "//lh5.googleusercontent.com/-UBdihS33LU4/AAAAAAAAAAI/AAAAAAAAEIA/Xb_W4xj5Wys/s50-c-k-no/photo.jpg",
            "userId": "116223453474966761812"
          }
        }
      },
      "cell_type": "code",
      "source": [
        "Y = df['type']\n",
        "from sklearn import preprocessing\n",
        "from keras.utils.np_utils import to_categorical\n",
        "\n",
        "le = preprocessing.LabelEncoder()\n",
        "le.fit(Y)\n",
        "Y=le.transform(Y) \n",
        "labels = to_categorical(np.asarray(Y))"
      ],
      "execution_count": 3,
      "outputs": [
        {
          "output_type": "stream",
          "text": [
            "Using TensorFlow backend.\n"
          ],
          "name": "stderr"
        }
      ]
    },
    {
      "metadata": {
        "id": "WVTnzJ-UoHjj",
        "colab_type": "code",
        "colab": {
          "autoexec": {
            "startup": false,
            "wait_interval": 0
          }
        }
      },
      "cell_type": "code",
      "source": [
        "from keras.preprocessing.text import Tokenizer\n",
        "from keras.preprocessing.sequence import pad_sequences\n",
        "# from unidecode import unidecode\n",
        "# fit_on_texts(textdata))\n",
        "MAX_NB_WORDS = 16384\n",
        "MAX_SEQUENCE_LENGTH=128\n"
      ],
      "execution_count": 0,
      "outputs": []
    },
    {
      "metadata": {
        "id": "u-1gdoCzVbO7",
        "colab_type": "code",
        "colab": {
          "autoexec": {
            "startup": false,
            "wait_interval": 0
          },
          "base_uri": "https://localhost:8080/",
          "height": 35
        },
        "outputId": "24e71a62-d8f6-416d-864f-76acdfd13c5d",
        "executionInfo": {
          "status": "ok",
          "timestamp": 1528717552874,
          "user_tz": -330,
          "elapsed": 1612,
          "user": {
            "displayName": "Yash Choubey",
            "photoUrl": "//lh5.googleusercontent.com/-UBdihS33LU4/AAAAAAAAAAI/AAAAAAAAEIA/Xb_W4xj5Wys/s50-c-k-no/photo.jpg",
            "userId": "116223453474966761812"
          }
        }
      },
      "cell_type": "code",
      "source": [
        "tokenizer = Tokenizer(num_words=MAX_NB_WORDS, split=' ')\n",
        "\n",
        "alist=[str(x) for x in df['sentence'].values ]\n",
        "tokenizer.fit_on_texts(alist)\n",
        "X=tokenizer.texts_to_sequences(alist)\n",
        "X = pad_sequences(X, maxlen=MAX_SEQUENCE_LENGTH)\n",
        "\n",
        "\n",
        "word_index = tokenizer.word_index\n",
        "print('Found %s unique tokens.' % len(word_index))\n",
        "\n",
        "from sklearn.model_selection import train_test_split\n",
        "x_train, x_test, y_train, y_test = train_test_split(X, labels, test_size = 0.2)\n"
      ],
      "execution_count": 6,
      "outputs": [
        {
          "output_type": "stream",
          "text": [
            "Found 3650 unique tokens.\n"
          ],
          "name": "stdout"
        }
      ]
    },
    {
      "metadata": {
        "id": "V0nmi0-fVqsm",
        "colab_type": "code",
        "colab": {
          "autoexec": {
            "startup": false,
            "wait_interval": 0
          }
        },
        "outputId": "489eb01c-f9c5-4e99-be5f-77eca28307e8"
      },
      "cell_type": "code",
      "source": [
        "# embeddings_index = {}\n",
        "\n",
        "# f = open('/home/yash/glove.42B.300d.txt')\n",
        "# for line in f:\n",
        "#     #print line\n",
        "#     values = line.split()\n",
        "#     word = values[0]\n",
        "#     coefs = np.asarray(values[1:], dtype='float32')\n",
        "#     embeddings_index[word] = coefs\n",
        "# f.close()\n",
        "\n",
        "# print('Found %s word vectors.' % len(embeddings_index))\n",
        "\n",
        "\n",
        "# word_index = tokenizer.word_index\n",
        "# print('Found %s unique tokens.' % len(word_index))\n",
        "\n",
        "# emb_dimension=300\n",
        "# embedding_matrix = np.zeros((len(word_index) + 1, emb_dimension))\n",
        "# for word, i in word_index.items():\n",
        "#     embedding_vector = embeddings_index.get(word)\n",
        "#     if embedding_vector is not None:\n",
        "#         # words not found in embedding index will be all-zeros.\n",
        "#         embedding_matrix[i] = embedding_vector\n",
        "        \n",
        "# embedding_matrix.dump('embd.dat')"
      ],
      "execution_count": 0,
      "outputs": [
        {
          "output_type": "stream",
          "text": [
            "Found 1917494 word vectors.\n",
            "Found 3650 unique tokens.\n"
          ],
          "name": "stdout"
        }
      ]
    },
    {
      "metadata": {
        "id": "s9wDyWOcU34Z",
        "colab_type": "code",
        "colab": {
          "autoexec": {
            "startup": false,
            "wait_interval": 0
          },
          "base_uri": "https://localhost:8080/",
          "height": 282
        },
        "outputId": "d635e11f-1e4f-42e1-f9be-814f4bb67ad9",
        "executionInfo": {
          "status": "ok",
          "timestamp": 1528718220726,
          "user_tz": -330,
          "elapsed": 2887,
          "user": {
            "displayName": "Yash Choubey",
            "photoUrl": "//lh5.googleusercontent.com/-UBdihS33LU4/AAAAAAAAAAI/AAAAAAAAEIA/Xb_W4xj5Wys/s50-c-k-no/photo.jpg",
            "userId": "116223453474966761812"
          }
        }
      },
      "cell_type": "code",
      "source": [
        "from keras.models import Sequential\n",
        "from keras.layers import Dense, LSTM, Embedding\n",
        "from keras.callbacks import History ,ReduceLROnPlateau\n",
        "from keras import regularizers\n",
        "from keras import optimizers\n",
        "history = History()\n",
        "model = Sequential()\n",
        "model.add(Embedding(len(word_index)+1,\n",
        "                            300,\n",
        "                            weights=[embedding_matrix],\n",
        "                            input_length=MAX_SEQUENCE_LENGTH,\n",
        "                            trainable=False))\n",
        "\n",
        "model.add(LSTM(256,\n",
        "               return_sequences=True, \n",
        "               dropout=0.5, \n",
        "               recurrent_dropout=0.5, \n",
        "               activation='relu',\n",
        "               kernel_regularizer=regularizers.l2(0.001))), \n",
        "               # activity_regularizer=regularizers.l1(0.01)))\n",
        "\n",
        "model.add(LSTM(128, \n",
        "               dropout=0.4,\n",
        "               #return_sequences=True,\n",
        "               recurrent_dropout=0.4, \n",
        "               activation='relu',\n",
        "               kernel_regularizer=regularizers.l2(0.001)))\n",
        "\n",
        "#model.add(LSTM(256, dropout_U=0.5, dropout_W=0.5, activation='relu', kernel_regularizer=l2_reg))\n",
        "model.add(Dense(4,activation='softmax'))#,kernel_regularizer=regularizers.l2(0.01), activity_regularizer=regularizers.l1(0.01)))\n",
        "rmsprop = optimizers.Adam(lr=0.001, beta_1=0.9, beta_2=0.999)\n",
        "model.compile(loss = 'categorical_crossentropy', optimizer=rmsprop,metrics = ['accuracy'])\n",
        "model.summary()"
      ],
      "execution_count": 19,
      "outputs": [
        {
          "output_type": "stream",
          "text": [
            "_________________________________________________________________\n",
            "Layer (type)                 Output Shape              Param #   \n",
            "=================================================================\n",
            "embedding_6 (Embedding)      (None, 128, 300)          1095300   \n",
            "_________________________________________________________________\n",
            "lstm_11 (LSTM)               (None, 128, 256)          570368    \n",
            "_________________________________________________________________\n",
            "lstm_12 (LSTM)               (None, 128)               197120    \n",
            "_________________________________________________________________\n",
            "dense_6 (Dense)              (None, 4)                 516       \n",
            "=================================================================\n",
            "Total params: 1,863,304\n",
            "Trainable params: 768,004\n",
            "Non-trainable params: 1,095,300\n",
            "_________________________________________________________________\n"
          ],
          "name": "stdout"
        }
      ]
    },
    {
      "metadata": {
        "id": "OeDFyM04U38q",
        "colab_type": "code",
        "colab": {
          "autoexec": {
            "startup": false,
            "wait_interval": 0
          },
          "base_uri": "https://localhost:8080/",
          "height": 7111
        },
        "outputId": "e8494034-76f3-44a2-b27d-ed69d1de5a53",
        "executionInfo": {
          "status": "ok",
          "timestamp": 1528718615388,
          "user_tz": -330,
          "elapsed": 314970,
          "user": {
            "displayName": "Yash Choubey",
            "photoUrl": "//lh5.googleusercontent.com/-UBdihS33LU4/AAAAAAAAAAI/AAAAAAAAEIA/Xb_W4xj5Wys/s50-c-k-no/photo.jpg",
            "userId": "116223453474966761812"
          }
        }
      },
      "cell_type": "code",
      "source": [
        "\n",
        "reduce_lr = ReduceLROnPlateau(monitor='val_loss', factor=0.1,patience=5, min_lr=0.0001, cooldown=5)\n",
        "history=model.fit(x_train, y_train,\n",
        "          batch_size=1575,\n",
        "          epochs=200,\n",
        "          verbose=1,\n",
        "          callbacks=[reduce_lr],\n",
        "          validation_data=(x_test, y_test))"
      ],
      "execution_count": 22,
      "outputs": [
        {
          "output_type": "stream",
          "text": [
            "Train on 1575 samples, validate on 394 samples\n",
            "Epoch 1/200\n",
            "1575/1575 [==============================] - 2s 1ms/step - loss: 1.5378 - acc: 0.5530 - val_loss: 1.4967 - val_acc: 0.6269\n",
            "Epoch 2/200\n",
            "1575/1575 [==============================] - 2s 984us/step - loss: 1.5200 - acc: 0.5721 - val_loss: 1.4574 - val_acc: 0.6345\n",
            "Epoch 3/200\n",
            "1575/1575 [==============================] - 2s 994us/step - loss: 1.5095 - acc: 0.5771 - val_loss: 1.4209 - val_acc: 0.6675\n",
            "Epoch 4/200\n",
            "1575/1575 [==============================] - 2s 984us/step - loss: 1.4652 - acc: 0.6019 - val_loss: 1.3860 - val_acc: 0.6777\n",
            "Epoch 5/200\n",
            "1575/1575 [==============================] - 2s 995us/step - loss: 1.4294 - acc: 0.6362 - val_loss: 1.3562 - val_acc: 0.6802\n",
            "Epoch 6/200\n",
            "1575/1575 [==============================] - 2s 985us/step - loss: 1.4078 - acc: 0.6260 - val_loss: 1.3268 - val_acc: 0.6751\n",
            "Epoch 7/200\n",
            "1575/1575 [==============================] - 2s 990us/step - loss: 1.3578 - acc: 0.6349 - val_loss: 1.2943 - val_acc: 0.6802\n",
            "Epoch 8/200\n",
            "1575/1575 [==============================] - 2s 989us/step - loss: 1.3589 - acc: 0.6419 - val_loss: 1.2680 - val_acc: 0.6904\n",
            "Epoch 9/200\n",
            "1575/1575 [==============================] - 2s 989us/step - loss: 1.3675 - acc: 0.6387 - val_loss: 1.2433 - val_acc: 0.7081\n",
            "Epoch 10/200\n",
            "1575/1575 [==============================] - 2s 987us/step - loss: 1.2800 - acc: 0.6533 - val_loss: 1.2234 - val_acc: 0.7259\n",
            "Epoch 11/200\n",
            "1575/1575 [==============================] - 2s 988us/step - loss: 1.2777 - acc: 0.6667 - val_loss: 1.2088 - val_acc: 0.7310\n",
            "Epoch 12/200\n",
            "1575/1575 [==============================] - 2s 988us/step - loss: 1.2652 - acc: 0.6711 - val_loss: 1.2022 - val_acc: 0.7284\n",
            "Epoch 13/200\n",
            "1575/1575 [==============================] - 2s 985us/step - loss: 1.2482 - acc: 0.6806 - val_loss: 1.1948 - val_acc: 0.7284\n",
            "Epoch 14/200\n",
            "1575/1575 [==============================] - 2s 991us/step - loss: 1.2327 - acc: 0.6584 - val_loss: 1.1859 - val_acc: 0.7335\n",
            "Epoch 15/200\n",
            "1575/1575 [==============================] - 2s 983us/step - loss: 1.2111 - acc: 0.6781 - val_loss: 1.1746 - val_acc: 0.7234\n",
            "Epoch 16/200\n",
            "1575/1575 [==============================] - 2s 996us/step - loss: 1.2046 - acc: 0.6794 - val_loss: 1.1595 - val_acc: 0.7183\n",
            "Epoch 17/200\n",
            "1575/1575 [==============================] - 2s 983us/step - loss: 1.1842 - acc: 0.6851 - val_loss: 1.1405 - val_acc: 0.7208\n",
            "Epoch 18/200\n",
            "1575/1575 [==============================] - 2s 996us/step - loss: 1.1802 - acc: 0.6889 - val_loss: 1.1175 - val_acc: 0.7310\n",
            "Epoch 19/200\n",
            "1575/1575 [==============================] - 2s 988us/step - loss: 1.1665 - acc: 0.6794 - val_loss: 1.0917 - val_acc: 0.7411\n",
            "Epoch 20/200\n",
            "1575/1575 [==============================] - 2s 993us/step - loss: 1.1351 - acc: 0.6933 - val_loss: 1.0677 - val_acc: 0.7538\n",
            "Epoch 21/200\n",
            "1575/1575 [==============================] - 2s 985us/step - loss: 1.1377 - acc: 0.7060 - val_loss: 1.0507 - val_acc: 0.7487\n",
            "Epoch 22/200\n",
            "1575/1575 [==============================] - 2s 992us/step - loss: 1.0964 - acc: 0.7067 - val_loss: 1.0381 - val_acc: 0.7360\n",
            "Epoch 23/200\n",
            "1575/1575 [==============================] - 2s 991us/step - loss: 1.1433 - acc: 0.6844 - val_loss: 1.0280 - val_acc: 0.7411\n",
            "Epoch 24/200\n",
            "1575/1575 [==============================] - 2s 990us/step - loss: 1.0745 - acc: 0.7105 - val_loss: 1.0199 - val_acc: 0.7487\n",
            "Epoch 25/200\n",
            "1575/1575 [==============================] - 2s 994us/step - loss: 1.0721 - acc: 0.7111 - val_loss: 1.0144 - val_acc: 0.7589\n",
            "Epoch 26/200\n",
            "1575/1575 [==============================] - 2s 986us/step - loss: 1.0706 - acc: 0.7111 - val_loss: 1.0079 - val_acc: 0.7538\n",
            "Epoch 27/200\n"
          ],
          "name": "stdout"
        },
        {
          "output_type": "stream",
          "text": [
            "\r1575/1575 [==============================] - 2s 992us/step - loss: 1.0590 - acc: 0.7130 - val_loss: 1.0003 - val_acc: 0.7462\n",
            "Epoch 28/200\n",
            "1575/1575 [==============================] - 2s 986us/step - loss: 1.0484 - acc: 0.7225 - val_loss: 0.9920 - val_acc: 0.7437\n",
            "Epoch 29/200\n",
            "1575/1575 [==============================] - 2s 997us/step - loss: 1.0295 - acc: 0.7168 - val_loss: 0.9876 - val_acc: 0.7538\n",
            "Epoch 30/200\n",
            "1575/1575 [==============================] - 2s 981us/step - loss: 0.9999 - acc: 0.7244 - val_loss: 1.0012 - val_acc: 0.7563\n",
            "Epoch 31/200\n",
            "1575/1575 [==============================] - 2s 991us/step - loss: 1.0159 - acc: 0.7257 - val_loss: 0.9949 - val_acc: 0.7513\n",
            "Epoch 32/200\n",
            "1575/1575 [==============================] - 2s 989us/step - loss: 0.9993 - acc: 0.7206 - val_loss: 0.9822 - val_acc: 0.7513\n",
            "Epoch 33/200\n",
            "1575/1575 [==============================] - 2s 993us/step - loss: 1.0109 - acc: 0.7314 - val_loss: 1.0054 - val_acc: 0.7487\n",
            "Epoch 34/200\n",
            "1575/1575 [==============================] - 2s 989us/step - loss: 0.9887 - acc: 0.7378 - val_loss: 0.9604 - val_acc: 0.7538\n",
            "Epoch 35/200\n",
            "1575/1575 [==============================] - 2s 990us/step - loss: 0.9655 - acc: 0.7327 - val_loss: 0.9524 - val_acc: 0.7437\n",
            "Epoch 36/200\n",
            "1575/1575 [==============================] - 2s 992us/step - loss: 0.9634 - acc: 0.7390 - val_loss: 1.0441 - val_acc: 0.7259\n",
            "Epoch 37/200\n",
            "1575/1575 [==============================] - 2s 997us/step - loss: 0.9634 - acc: 0.7384 - val_loss: 1.0094 - val_acc: 0.7259\n",
            "Epoch 38/200\n",
            "1575/1575 [==============================] - 2s 991us/step - loss: 1.0453 - acc: 0.7225 - val_loss: 1.0003 - val_acc: 0.7437\n",
            "Epoch 39/200\n",
            "1575/1575 [==============================] - 2s 985us/step - loss: 1.0198 - acc: 0.7270 - val_loss: 0.9842 - val_acc: 0.7716\n",
            "Epoch 40/200\n",
            "1575/1575 [==============================] - 2s 993us/step - loss: 0.9995 - acc: 0.7308 - val_loss: 0.9746 - val_acc: 0.7741\n",
            "Epoch 41/200\n",
            "1575/1575 [==============================] - 2s 988us/step - loss: 0.9957 - acc: 0.7479 - val_loss: 0.9744 - val_acc: 0.7766\n",
            "Epoch 42/200\n",
            "1575/1575 [==============================] - 2s 992us/step - loss: 1.0310 - acc: 0.7295 - val_loss: 0.9744 - val_acc: 0.7716\n",
            "Epoch 43/200\n",
            "1575/1575 [==============================] - 2s 985us/step - loss: 0.9886 - acc: 0.7283 - val_loss: 0.9917 - val_acc: 0.7690\n",
            "Epoch 44/200\n",
            "1575/1575 [==============================] - 2s 991us/step - loss: 0.9977 - acc: 0.7365 - val_loss: 0.9573 - val_acc: 0.7716\n",
            "Epoch 45/200\n",
            "1575/1575 [==============================] - 2s 986us/step - loss: 1.0103 - acc: 0.7384 - val_loss: 0.9414 - val_acc: 0.7716\n",
            "Epoch 46/200\n",
            "1575/1575 [==============================] - 2s 996us/step - loss: 0.9941 - acc: 0.7333 - val_loss: 0.9496 - val_acc: 0.7690\n",
            "Epoch 47/200\n",
            "1575/1575 [==============================] - 2s 984us/step - loss: 0.9872 - acc: 0.7403 - val_loss: 0.9326 - val_acc: 0.7716\n",
            "Epoch 48/200\n",
            "1575/1575 [==============================] - 2s 991us/step - loss: 0.9990 - acc: 0.7340 - val_loss: 0.9327 - val_acc: 0.7716\n",
            "Epoch 49/200\n",
            "1575/1575 [==============================] - 2s 982us/step - loss: 1.0127 - acc: 0.7397 - val_loss: 0.9328 - val_acc: 0.7690\n",
            "Epoch 50/200\n",
            "1575/1575 [==============================] - 2s 993us/step - loss: 0.9868 - acc: 0.7340 - val_loss: 0.9329 - val_acc: 0.7665\n",
            "Epoch 51/200\n",
            "1575/1575 [==============================] - 2s 990us/step - loss: 0.9999 - acc: 0.7200 - val_loss: 0.9331 - val_acc: 0.7614\n",
            "Epoch 52/200\n",
            "1575/1575 [==============================] - 2s 990us/step - loss: 1.0166 - acc: 0.7340 - val_loss: 0.9332 - val_acc: 0.7589\n",
            "Epoch 53/200\n"
          ],
          "name": "stdout"
        },
        {
          "output_type": "stream",
          "text": [
            "\r1575/1575 [==============================] - 2s 989us/step - loss: 1.0302 - acc: 0.7276 - val_loss: 0.9333 - val_acc: 0.7589\n",
            "Epoch 54/200\n",
            "1575/1575 [==============================] - 2s 992us/step - loss: 1.0232 - acc: 0.7194 - val_loss: 0.9329 - val_acc: 0.7563\n",
            "Epoch 55/200\n",
            "1575/1575 [==============================] - 2s 998us/step - loss: 1.0050 - acc: 0.7340 - val_loss: 0.9323 - val_acc: 0.7563\n",
            "Epoch 56/200\n",
            "1575/1575 [==============================] - 2s 987us/step - loss: 0.9911 - acc: 0.7403 - val_loss: 0.9317 - val_acc: 0.7563\n",
            "Epoch 57/200\n",
            "1575/1575 [==============================] - 2s 993us/step - loss: 0.9743 - acc: 0.7340 - val_loss: 0.9312 - val_acc: 0.7589\n",
            "Epoch 58/200\n",
            "1575/1575 [==============================] - 2s 985us/step - loss: 1.0212 - acc: 0.7225 - val_loss: 0.9308 - val_acc: 0.7614\n",
            "Epoch 59/200\n",
            "1575/1575 [==============================] - 2s 992us/step - loss: 1.0209 - acc: 0.7340 - val_loss: 0.9304 - val_acc: 0.7614\n",
            "Epoch 60/200\n",
            "1575/1575 [==============================] - 2s 988us/step - loss: 1.0211 - acc: 0.7314 - val_loss: 0.9306 - val_acc: 0.7614\n",
            "Epoch 61/200\n",
            "1575/1575 [==============================] - 2s 1000us/step - loss: 1.0082 - acc: 0.7302 - val_loss: 0.9309 - val_acc: 0.7614\n",
            "Epoch 62/200\n",
            "1575/1575 [==============================] - 2s 989us/step - loss: 1.0188 - acc: 0.7314 - val_loss: 0.9311 - val_acc: 0.7614\n",
            "Epoch 63/200\n",
            "1575/1575 [==============================] - 2s 991us/step - loss: 1.0007 - acc: 0.7422 - val_loss: 0.9313 - val_acc: 0.7589\n",
            "Epoch 64/200\n",
            "1575/1575 [==============================] - 2s 989us/step - loss: 0.9953 - acc: 0.7302 - val_loss: 0.9313 - val_acc: 0.7589\n",
            "Epoch 65/200\n",
            "1575/1575 [==============================] - 2s 994us/step - loss: 0.9908 - acc: 0.7333 - val_loss: 0.9328 - val_acc: 0.7538\n",
            "Epoch 66/200\n",
            "1575/1575 [==============================] - 2s 988us/step - loss: 1.0109 - acc: 0.7206 - val_loss: 0.9346 - val_acc: 0.7538\n",
            "Epoch 67/200\n",
            "1575/1575 [==============================] - 2s 987us/step - loss: 0.9854 - acc: 0.7365 - val_loss: 0.9367 - val_acc: 0.7437\n",
            "Epoch 68/200\n",
            "1575/1575 [==============================] - 2s 991us/step - loss: 1.0309 - acc: 0.7270 - val_loss: 0.9389 - val_acc: 0.7411\n",
            "Epoch 69/200\n",
            "1575/1575 [==============================] - 2s 989us/step - loss: 1.0651 - acc: 0.7276 - val_loss: 0.9413 - val_acc: 0.7386\n",
            "Epoch 70/200\n",
            "1575/1575 [==============================] - 2s 992us/step - loss: 1.0506 - acc: 0.7321 - val_loss: 0.9432 - val_acc: 0.7360\n",
            "Epoch 71/200\n",
            "1575/1575 [==============================] - 2s 988us/step - loss: 1.0637 - acc: 0.7352 - val_loss: 0.9450 - val_acc: 0.7335\n",
            "Epoch 72/200\n",
            "1575/1575 [==============================] - 2s 992us/step - loss: 1.0874 - acc: 0.7289 - val_loss: 0.9464 - val_acc: 0.7335\n",
            "Epoch 73/200\n",
            "1575/1575 [==============================] - 2s 986us/step - loss: 1.1034 - acc: 0.7206 - val_loss: 0.9477 - val_acc: 0.7335\n",
            "Epoch 74/200\n",
            "1575/1575 [==============================] - 2s 991us/step - loss: 1.0542 - acc: 0.7238 - val_loss: 0.9489 - val_acc: 0.7335\n",
            "Epoch 75/200\n",
            "1575/1575 [==============================] - 2s 985us/step - loss: 1.0519 - acc: 0.7270 - val_loss: 0.9499 - val_acc: 0.7335\n",
            "Epoch 76/200\n",
            "1575/1575 [==============================] - 2s 995us/step - loss: 1.1161 - acc: 0.7200 - val_loss: 0.9487 - val_acc: 0.7360\n",
            "Epoch 77/200\n",
            "1575/1575 [==============================] - 2s 989us/step - loss: 1.1393 - acc: 0.7283 - val_loss: 0.9475 - val_acc: 0.7360\n",
            "Epoch 78/200\n",
            "1575/1575 [==============================] - 2s 992us/step - loss: 1.1003 - acc: 0.7365 - val_loss: 0.9465 - val_acc: 0.7335\n",
            "Epoch 79/200\n"
          ],
          "name": "stdout"
        },
        {
          "output_type": "stream",
          "text": [
            "\r1575/1575 [==============================] - 2s 989us/step - loss: 1.1382 - acc: 0.7143 - val_loss: 0.9455 - val_acc: 0.7360\n",
            "Epoch 80/200\n",
            "1575/1575 [==============================] - 2s 992us/step - loss: 1.0828 - acc: 0.7321 - val_loss: 0.9445 - val_acc: 0.7360\n",
            "Epoch 81/200\n",
            "1575/1575 [==============================] - 2s 992us/step - loss: 1.0953 - acc: 0.7302 - val_loss: 0.9436 - val_acc: 0.7360\n",
            "Epoch 82/200\n",
            "1575/1575 [==============================] - 2s 988us/step - loss: 1.0958 - acc: 0.7333 - val_loss: 0.9428 - val_acc: 0.7386\n",
            "Epoch 83/200\n",
            "1575/1575 [==============================] - 2s 993us/step - loss: 1.1148 - acc: 0.7079 - val_loss: 0.9420 - val_acc: 0.7437\n",
            "Epoch 84/200\n",
            "1575/1575 [==============================] - 2s 988us/step - loss: 1.0713 - acc: 0.7289 - val_loss: 0.9412 - val_acc: 0.7462\n",
            "Epoch 85/200\n",
            "1575/1575 [==============================] - 2s 991us/step - loss: 1.0664 - acc: 0.7219 - val_loss: 0.9404 - val_acc: 0.7487\n",
            "Epoch 86/200\n",
            "1575/1575 [==============================] - 2s 984us/step - loss: 1.0692 - acc: 0.7276 - val_loss: 0.9397 - val_acc: 0.7513\n",
            "Epoch 87/200\n",
            "1575/1575 [==============================] - 2s 991us/step - loss: 1.0831 - acc: 0.7352 - val_loss: 0.9389 - val_acc: 0.7563\n",
            "Epoch 88/200\n",
            "1575/1575 [==============================] - 2s 984us/step - loss: 1.0953 - acc: 0.7283 - val_loss: 0.9383 - val_acc: 0.7563\n",
            "Epoch 89/200\n",
            "1575/1575 [==============================] - 2s 993us/step - loss: 1.1207 - acc: 0.7333 - val_loss: 0.9376 - val_acc: 0.7563\n",
            "Epoch 90/200\n",
            "1575/1575 [==============================] - 2s 988us/step - loss: 1.0840 - acc: 0.7257 - val_loss: 0.9370 - val_acc: 0.7589\n",
            "Epoch 91/200\n",
            "1575/1575 [==============================] - 2s 992us/step - loss: 1.0677 - acc: 0.7308 - val_loss: 0.9365 - val_acc: 0.7589\n",
            "Epoch 92/200\n",
            "1575/1575 [==============================] - 2s 988us/step - loss: 1.0780 - acc: 0.7257 - val_loss: 0.9359 - val_acc: 0.7589\n",
            "Epoch 93/200\n",
            "1575/1575 [==============================] - 2s 990us/step - loss: 1.0444 - acc: 0.7327 - val_loss: 0.9354 - val_acc: 0.7589\n",
            "Epoch 94/200\n",
            "1575/1575 [==============================] - 2s 990us/step - loss: 1.0361 - acc: 0.7390 - val_loss: 0.9349 - val_acc: 0.7589\n",
            "Epoch 95/200\n",
            "1575/1575 [==============================] - 2s 988us/step - loss: 1.0501 - acc: 0.7352 - val_loss: 0.9345 - val_acc: 0.7589\n",
            "Epoch 96/200\n",
            "1575/1575 [==============================] - 2s 991us/step - loss: 1.1390 - acc: 0.7314 - val_loss: 0.9341 - val_acc: 0.7589\n",
            "Epoch 97/200\n",
            "1575/1575 [==============================] - 2s 989us/step - loss: 1.0710 - acc: 0.7321 - val_loss: 0.9336 - val_acc: 0.7589\n",
            "Epoch 98/200\n",
            "1575/1575 [==============================] - 2s 993us/step - loss: 1.0633 - acc: 0.7302 - val_loss: 0.9332 - val_acc: 0.7589\n",
            "Epoch 99/200\n",
            "1575/1575 [==============================] - 2s 987us/step - loss: 1.0536 - acc: 0.7384 - val_loss: 0.9341 - val_acc: 0.7563\n",
            "Epoch 100/200\n",
            "1575/1575 [==============================] - 2s 992us/step - loss: 1.1021 - acc: 0.7213 - val_loss: 0.9351 - val_acc: 0.7563\n",
            "Epoch 101/200\n",
            "1575/1575 [==============================] - 2s 984us/step - loss: 1.0367 - acc: 0.7359 - val_loss: 0.9361 - val_acc: 0.7538\n",
            "Epoch 102/200\n",
            "1575/1575 [==============================] - 2s 995us/step - loss: 1.0403 - acc: 0.7473 - val_loss: 0.9370 - val_acc: 0.7513\n",
            "Epoch 103/200\n",
            "1575/1575 [==============================] - 2s 982us/step - loss: 1.0895 - acc: 0.7156 - val_loss: 0.9378 - val_acc: 0.7487\n",
            "Epoch 104/200\n",
            "1575/1575 [==============================] - 2s 993us/step - loss: 1.0125 - acc: 0.7492 - val_loss: 0.9386 - val_acc: 0.7487\n",
            "Epoch 105/200\n"
          ],
          "name": "stdout"
        },
        {
          "output_type": "stream",
          "text": [
            "\r1575/1575 [==============================] - 2s 989us/step - loss: 1.0671 - acc: 0.7263 - val_loss: 0.9394 - val_acc: 0.7487\n",
            "Epoch 106/200\n",
            "1575/1575 [==============================] - 2s 991us/step - loss: 1.0257 - acc: 0.7302 - val_loss: 0.9400 - val_acc: 0.7437\n",
            "Epoch 107/200\n",
            "1575/1575 [==============================] - 2s 989us/step - loss: 1.0203 - acc: 0.7371 - val_loss: 0.9406 - val_acc: 0.7437\n",
            "Epoch 108/200\n",
            "1575/1575 [==============================] - 2s 988us/step - loss: 1.0322 - acc: 0.7244 - val_loss: 0.9411 - val_acc: 0.7437\n",
            "Epoch 109/200\n",
            "1575/1575 [==============================] - 2s 989us/step - loss: 1.0989 - acc: 0.7390 - val_loss: 0.9415 - val_acc: 0.7411\n",
            "Epoch 110/200\n",
            "1575/1575 [==============================] - 2s 987us/step - loss: 1.0376 - acc: 0.7314 - val_loss: 0.9419 - val_acc: 0.7411\n",
            "Epoch 111/200\n",
            "1575/1575 [==============================] - 2s 993us/step - loss: 1.0272 - acc: 0.7340 - val_loss: 0.9423 - val_acc: 0.7411\n",
            "Epoch 112/200\n",
            "1575/1575 [==============================] - 2s 987us/step - loss: 1.0137 - acc: 0.7422 - val_loss: 0.9425 - val_acc: 0.7411\n",
            "Epoch 113/200\n",
            "1575/1575 [==============================] - 2s 997us/step - loss: 1.0386 - acc: 0.7397 - val_loss: 0.9427 - val_acc: 0.7411\n",
            "Epoch 114/200\n",
            "1575/1575 [==============================] - 2s 986us/step - loss: 1.0671 - acc: 0.7238 - val_loss: 0.9429 - val_acc: 0.7411\n",
            "Epoch 115/200\n",
            "1575/1575 [==============================] - 2s 991us/step - loss: 1.0625 - acc: 0.7270 - val_loss: 0.9430 - val_acc: 0.7411\n",
            "Epoch 116/200\n",
            "1575/1575 [==============================] - 2s 989us/step - loss: 1.0083 - acc: 0.7321 - val_loss: 0.9431 - val_acc: 0.7411\n",
            "Epoch 117/200\n",
            "1575/1575 [==============================] - 2s 992us/step - loss: 1.0381 - acc: 0.7238 - val_loss: 0.9431 - val_acc: 0.7411\n",
            "Epoch 118/200\n",
            "1575/1575 [==============================] - 2s 991us/step - loss: 1.0769 - acc: 0.7257 - val_loss: 0.9431 - val_acc: 0.7411\n",
            "Epoch 119/200\n",
            "1575/1575 [==============================] - 2s 990us/step - loss: 1.0187 - acc: 0.7378 - val_loss: 0.9431 - val_acc: 0.7411\n",
            "Epoch 120/200\n",
            "1575/1575 [==============================] - 2s 988us/step - loss: 1.0520 - acc: 0.7232 - val_loss: 0.9439 - val_acc: 0.7411\n",
            "Epoch 121/200\n",
            "1575/1575 [==============================] - 2s 994us/step - loss: 1.0301 - acc: 0.7384 - val_loss: 0.9447 - val_acc: 0.7360\n",
            "Epoch 122/200\n",
            "1575/1575 [==============================] - 2s 990us/step - loss: 1.0679 - acc: 0.7289 - val_loss: 0.9454 - val_acc: 0.7386\n",
            "Epoch 123/200\n",
            "1575/1575 [==============================] - 2s 985us/step - loss: 1.0777 - acc: 0.7333 - val_loss: 0.9460 - val_acc: 0.7360\n",
            "Epoch 124/200\n",
            "1575/1575 [==============================] - 2s 991us/step - loss: 1.0656 - acc: 0.7244 - val_loss: 0.9466 - val_acc: 0.7360\n",
            "Epoch 125/200\n",
            "1575/1575 [==============================] - 2s 985us/step - loss: 1.0565 - acc: 0.7156 - val_loss: 0.9470 - val_acc: 0.7335\n",
            "Epoch 126/200\n",
            "1575/1575 [==============================] - 2s 995us/step - loss: 1.0371 - acc: 0.7467 - val_loss: 0.9474 - val_acc: 0.7310\n",
            "Epoch 127/200\n",
            "1575/1575 [==============================] - 2s 985us/step - loss: 1.0629 - acc: 0.7225 - val_loss: 0.9477 - val_acc: 0.7310\n",
            "Epoch 128/200\n",
            "1575/1575 [==============================] - 2s 997us/step - loss: 1.0641 - acc: 0.7232 - val_loss: 0.9480 - val_acc: 0.7310\n",
            "Epoch 129/200\n",
            "1575/1575 [==============================] - 2s 987us/step - loss: 1.0847 - acc: 0.7308 - val_loss: 0.9482 - val_acc: 0.7335\n",
            "Epoch 130/200\n",
            "1575/1575 [==============================] - 2s 994us/step - loss: 1.1146 - acc: 0.7181 - val_loss: 0.9483 - val_acc: 0.7310\n",
            "Epoch 131/200\n"
          ],
          "name": "stdout"
        },
        {
          "output_type": "stream",
          "text": [
            "\r1575/1575 [==============================] - 2s 987us/step - loss: 1.1105 - acc: 0.7257 - val_loss: 0.9483 - val_acc: 0.7335\n",
            "Epoch 132/200\n",
            "1575/1575 [==============================] - 2s 992us/step - loss: 1.0576 - acc: 0.7244 - val_loss: 0.9484 - val_acc: 0.7335\n",
            "Epoch 133/200\n",
            "1575/1575 [==============================] - 2s 992us/step - loss: 1.0901 - acc: 0.7156 - val_loss: 0.9484 - val_acc: 0.7335\n",
            "Epoch 134/200\n",
            "1575/1575 [==============================] - 2s 987us/step - loss: 1.0757 - acc: 0.7238 - val_loss: 0.9484 - val_acc: 0.7335\n",
            "Epoch 135/200\n",
            "1575/1575 [==============================] - 2s 990us/step - loss: 1.0810 - acc: 0.7340 - val_loss: 0.9483 - val_acc: 0.7335\n",
            "Epoch 136/200\n",
            "1575/1575 [==============================] - 2s 989us/step - loss: 1.0972 - acc: 0.7194 - val_loss: 0.9482 - val_acc: 0.7360\n",
            "Epoch 137/200\n",
            "1575/1575 [==============================] - 2s 994us/step - loss: 1.0984 - acc: 0.7333 - val_loss: 0.9481 - val_acc: 0.7386\n",
            "Epoch 138/200\n",
            "1575/1575 [==============================] - 2s 987us/step - loss: 1.1036 - acc: 0.7238 - val_loss: 0.9479 - val_acc: 0.7386\n",
            "Epoch 139/200\n",
            "1575/1575 [==============================] - 2s 993us/step - loss: 1.0743 - acc: 0.7251 - val_loss: 0.9477 - val_acc: 0.7386\n",
            "Epoch 140/200\n",
            "1575/1575 [==============================] - 2s 986us/step - loss: 1.0399 - acc: 0.7403 - val_loss: 0.9459 - val_acc: 0.7386\n",
            "Epoch 141/200\n",
            "1575/1575 [==============================] - 2s 994us/step - loss: 1.1180 - acc: 0.7283 - val_loss: 0.9444 - val_acc: 0.7437\n",
            "Epoch 142/200\n",
            "1575/1575 [==============================] - 2s 987us/step - loss: 1.0887 - acc: 0.7219 - val_loss: 0.9432 - val_acc: 0.7462\n",
            "Epoch 143/200\n",
            "1575/1575 [==============================] - 2s 993us/step - loss: 1.0795 - acc: 0.7276 - val_loss: 0.9421 - val_acc: 0.7462\n",
            "Epoch 144/200\n",
            "1575/1575 [==============================] - 2s 989us/step - loss: 1.0813 - acc: 0.7257 - val_loss: 0.9412 - val_acc: 0.7487\n",
            "Epoch 145/200\n",
            "1575/1575 [==============================] - 2s 992us/step - loss: 1.0560 - acc: 0.7467 - val_loss: 0.9404 - val_acc: 0.7462\n",
            "Epoch 146/200\n",
            "1575/1575 [==============================] - 2s 988us/step - loss: 1.1085 - acc: 0.7232 - val_loss: 0.9397 - val_acc: 0.7462\n",
            "Epoch 147/200\n",
            "1575/1575 [==============================] - 2s 990us/step - loss: 1.1157 - acc: 0.7086 - val_loss: 0.9390 - val_acc: 0.7487\n",
            "Epoch 148/200\n",
            "1575/1575 [==============================] - 2s 988us/step - loss: 1.1070 - acc: 0.7219 - val_loss: 0.9385 - val_acc: 0.7513\n",
            "Epoch 149/200\n",
            "1575/1575 [==============================] - 2s 988us/step - loss: 1.1111 - acc: 0.7397 - val_loss: 0.9380 - val_acc: 0.7513\n",
            "Epoch 150/200\n",
            "1575/1575 [==============================] - 2s 990us/step - loss: 1.0622 - acc: 0.7276 - val_loss: 0.9375 - val_acc: 0.7563\n",
            "Epoch 151/200\n",
            "1575/1575 [==============================] - 2s 988us/step - loss: 1.0717 - acc: 0.7295 - val_loss: 0.9371 - val_acc: 0.7614\n",
            "Epoch 152/200\n",
            "1575/1575 [==============================] - 2s 996us/step - loss: 1.1091 - acc: 0.7244 - val_loss: 0.9368 - val_acc: 0.7640\n",
            "Epoch 153/200\n",
            "1575/1575 [==============================] - 2s 985us/step - loss: 1.1315 - acc: 0.7321 - val_loss: 0.9364 - val_acc: 0.7640\n",
            "Epoch 154/200\n",
            "1575/1575 [==============================] - 2s 995us/step - loss: 1.1053 - acc: 0.7384 - val_loss: 0.9361 - val_acc: 0.7589\n",
            "Epoch 155/200\n",
            "1575/1575 [==============================] - 2s 985us/step - loss: 1.0791 - acc: 0.7219 - val_loss: 0.9358 - val_acc: 0.7589\n",
            "Epoch 156/200\n",
            "1575/1575 [==============================] - 2s 993us/step - loss: 1.0930 - acc: 0.7314 - val_loss: 0.9355 - val_acc: 0.7538\n",
            "Epoch 157/200\n"
          ],
          "name": "stdout"
        },
        {
          "output_type": "stream",
          "text": [
            "\r1575/1575 [==============================] - 2s 987us/step - loss: 1.1010 - acc: 0.7314 - val_loss: 0.9353 - val_acc: 0.7538\n",
            "Epoch 158/200\n",
            "1575/1575 [==============================] - 2s 991us/step - loss: 1.0928 - acc: 0.7340 - val_loss: 0.9332 - val_acc: 0.7513\n",
            "Epoch 159/200\n",
            "1575/1575 [==============================] - 2s 988us/step - loss: 1.1038 - acc: 0.7244 - val_loss: 0.9319 - val_acc: 0.7538\n",
            "Epoch 160/200\n",
            "1575/1575 [==============================] - 2s 989us/step - loss: 1.0303 - acc: 0.7219 - val_loss: 0.9311 - val_acc: 0.7640\n",
            "Epoch 161/200\n",
            "1575/1575 [==============================] - 2s 989us/step - loss: 1.0514 - acc: 0.7333 - val_loss: 0.9309 - val_acc: 0.7640\n",
            "Epoch 162/200\n",
            "1575/1575 [==============================] - 2s 987us/step - loss: 1.0293 - acc: 0.7505 - val_loss: 0.9308 - val_acc: 0.7640\n",
            "Epoch 163/200\n",
            "1575/1575 [==============================] - 2s 990us/step - loss: 0.9911 - acc: 0.7365 - val_loss: 0.9309 - val_acc: 0.7665\n",
            "Epoch 164/200\n",
            "1575/1575 [==============================] - 2s 989us/step - loss: 1.0187 - acc: 0.7314 - val_loss: 0.9312 - val_acc: 0.7665\n",
            "Epoch 165/200\n",
            "1575/1575 [==============================] - 2s 995us/step - loss: 1.0077 - acc: 0.7346 - val_loss: 0.9315 - val_acc: 0.7665\n",
            "Epoch 166/200\n",
            "1575/1575 [==============================] - 2s 984us/step - loss: 1.0314 - acc: 0.7333 - val_loss: 0.9319 - val_acc: 0.7690\n",
            "Epoch 167/200\n",
            "1575/1575 [==============================] - 2s 989us/step - loss: 1.0143 - acc: 0.7397 - val_loss: 0.9324 - val_acc: 0.7716\n",
            "Epoch 168/200\n",
            "1575/1575 [==============================] - 2s 984us/step - loss: 1.0370 - acc: 0.7314 - val_loss: 0.9328 - val_acc: 0.7716\n",
            "Epoch 169/200\n",
            "1575/1575 [==============================] - 2s 990us/step - loss: 1.0534 - acc: 0.7346 - val_loss: 0.9333 - val_acc: 0.7716\n",
            "Epoch 170/200\n",
            "1575/1575 [==============================] - 2s 987us/step - loss: 1.0000 - acc: 0.7327 - val_loss: 0.9337 - val_acc: 0.7741\n",
            "Epoch 171/200\n",
            "1575/1575 [==============================] - 2s 991us/step - loss: 1.0094 - acc: 0.7346 - val_loss: 0.9343 - val_acc: 0.7716\n",
            "Epoch 172/200\n",
            "1575/1575 [==============================] - 2s 988us/step - loss: 1.0376 - acc: 0.7378 - val_loss: 0.9347 - val_acc: 0.7741\n",
            "Epoch 173/200\n",
            "1575/1575 [==============================] - 2s 992us/step - loss: 1.0456 - acc: 0.7143 - val_loss: 0.9352 - val_acc: 0.7766\n",
            "Epoch 174/200\n",
            "1575/1575 [==============================] - 2s 989us/step - loss: 1.0174 - acc: 0.7149 - val_loss: 0.9357 - val_acc: 0.7792\n",
            "Epoch 175/200\n",
            "1575/1575 [==============================] - 2s 987us/step - loss: 0.9791 - acc: 0.7283 - val_loss: 0.9361 - val_acc: 0.7792\n",
            "Epoch 176/200\n",
            "1575/1575 [==============================] - 2s 988us/step - loss: 1.0131 - acc: 0.7321 - val_loss: 0.9365 - val_acc: 0.7843\n",
            "Epoch 177/200\n",
            "1575/1575 [==============================] - 2s 988us/step - loss: 1.0335 - acc: 0.7295 - val_loss: 0.9368 - val_acc: 0.7868\n",
            "Epoch 178/200\n",
            "1575/1575 [==============================] - 2s 990us/step - loss: 0.9918 - acc: 0.7276 - val_loss: 0.9372 - val_acc: 0.7868\n",
            "Epoch 179/200\n",
            "1575/1575 [==============================] - 2s 988us/step - loss: 1.0117 - acc: 0.7352 - val_loss: 0.9374 - val_acc: 0.7868\n",
            "Epoch 180/200\n",
            "1575/1575 [==============================] - 2s 993us/step - loss: 1.0531 - acc: 0.7187 - val_loss: 0.9377 - val_acc: 0.7868\n",
            "Epoch 181/200\n",
            "1575/1575 [==============================] - 2s 986us/step - loss: 1.0164 - acc: 0.7397 - val_loss: 0.9379 - val_acc: 0.7868\n",
            "Epoch 182/200\n",
            "1575/1575 [==============================] - 2s 993us/step - loss: 0.9983 - acc: 0.7473 - val_loss: 0.9381 - val_acc: 0.7868\n",
            "Epoch 183/200\n"
          ],
          "name": "stdout"
        },
        {
          "output_type": "stream",
          "text": [
            "\r1575/1575 [==============================] - 2s 987us/step - loss: 1.0079 - acc: 0.7327 - val_loss: 0.9383 - val_acc: 0.7868\n",
            "Epoch 184/200\n",
            "1575/1575 [==============================] - 2s 996us/step - loss: 0.9764 - acc: 0.7340 - val_loss: 0.9384 - val_acc: 0.7868\n",
            "Epoch 185/200\n",
            "1575/1575 [==============================] - 2s 988us/step - loss: 0.9972 - acc: 0.7371 - val_loss: 0.9386 - val_acc: 0.7868\n",
            "Epoch 186/200\n",
            "1575/1575 [==============================] - 2s 996us/step - loss: 1.0392 - acc: 0.7276 - val_loss: 0.9387 - val_acc: 0.7868\n",
            "Epoch 187/200\n",
            "1575/1575 [==============================] - 2s 991us/step - loss: 1.0259 - acc: 0.7295 - val_loss: 0.9388 - val_acc: 0.7868\n",
            "Epoch 188/200\n",
            "1575/1575 [==============================] - 2s 990us/step - loss: 1.0553 - acc: 0.7244 - val_loss: 0.9389 - val_acc: 0.7868\n",
            "Epoch 189/200\n",
            "1575/1575 [==============================] - 2s 993us/step - loss: 1.0132 - acc: 0.7410 - val_loss: 0.9389 - val_acc: 0.7868\n",
            "Epoch 190/200\n",
            "1575/1575 [==============================] - 2s 988us/step - loss: 1.0114 - acc: 0.7213 - val_loss: 0.9390 - val_acc: 0.7843\n",
            "Epoch 191/200\n",
            "1575/1575 [==============================] - 2s 997us/step - loss: 0.9883 - acc: 0.7295 - val_loss: 0.9391 - val_acc: 0.7817\n",
            "Epoch 192/200\n",
            "1575/1575 [==============================] - 2s 991us/step - loss: 0.9935 - acc: 0.7359 - val_loss: 0.9391 - val_acc: 0.7817\n",
            "Epoch 193/200\n",
            "1575/1575 [==============================] - 2s 992us/step - loss: 0.9802 - acc: 0.7295 - val_loss: 0.9392 - val_acc: 0.7843\n",
            "Epoch 194/200\n",
            "1575/1575 [==============================] - 2s 983us/step - loss: 1.0035 - acc: 0.7232 - val_loss: 0.9392 - val_acc: 0.7843\n",
            "Epoch 195/200\n",
            "1575/1575 [==============================] - 2s 994us/step - loss: 1.0075 - acc: 0.7162 - val_loss: 0.9392 - val_acc: 0.7843\n",
            "Epoch 196/200\n",
            "1575/1575 [==============================] - 2s 987us/step - loss: 1.0339 - acc: 0.7333 - val_loss: 0.9392 - val_acc: 0.7843\n",
            "Epoch 197/200\n",
            "1575/1575 [==============================] - 2s 991us/step - loss: 1.0194 - acc: 0.7225 - val_loss: 0.9393 - val_acc: 0.7843\n",
            "Epoch 198/200\n",
            "1575/1575 [==============================] - 2s 991us/step - loss: 1.0049 - acc: 0.7397 - val_loss: 0.9393 - val_acc: 0.7792\n",
            "Epoch 199/200\n",
            "1575/1575 [==============================] - 2s 991us/step - loss: 1.0304 - acc: 0.7314 - val_loss: 0.9393 - val_acc: 0.7792\n",
            "Epoch 200/200\n",
            "1575/1575 [==============================] - 2s 989us/step - loss: 1.0576 - acc: 0.7371 - val_loss: 0.9393 - val_acc: 0.7792\n"
          ],
          "name": "stdout"
        }
      ]
    },
    {
      "metadata": {
        "id": "q8_yS5rUU4AI",
        "colab_type": "code",
        "colab": {
          "autoexec": {
            "startup": false,
            "wait_interval": 0
          }
        },
        "outputId": "b8499c25-b3a4-4412-c930-71b860d778d6"
      },
      "cell_type": "code",
      "source": [
        "example = tokenizer.texts_to_sequences([\"food was worse\"])\n",
        "example = pad_sequences(example, maxlen=MAX_SEQUENCE_LENGTH)\n",
        "print model.predict(example),type(model.predict(example))\n",
        "le.inverse_transform(np.argmax(model.predict(example)))"
      ],
      "execution_count": 0,
      "outputs": [
        {
          "output_type": "stream",
          "text": [
            "[[0.6241612  0.17492281 0.08832416 0.11259187]] <type 'numpy.ndarray'>\n"
          ],
          "name": "stdout"
        },
        {
          "output_type": "stream",
          "text": [
            "/usr/local/lib/python2.7/dist-packages/sklearn/preprocessing/label.py:151: DeprecationWarning: The truth value of an empty array is ambiguous. Returning False, but in future this will result in an error. Use `array.size > 0` to check that an array is not empty.\n",
            "  if diff:\n"
          ],
          "name": "stderr"
        },
        {
          "output_type": "execute_result",
          "data": {
            "text/plain": [
              "'FB'"
            ]
          },
          "metadata": {
            "tags": []
          },
          "execution_count": 39
        }
      ]
    },
    {
      "metadata": {
        "id": "s3DkfrwyU4Dr",
        "colab_type": "code",
        "colab": {
          "autoexec": {
            "startup": false,
            "wait_interval": 0
          },
          "base_uri": "https://localhost:8080/",
          "height": 52
        },
        "outputId": "89ed7849-82b9-4459-8333-03aed82e3255",
        "executionInfo": {
          "status": "ok",
          "timestamp": 1528717709130,
          "user_tz": -330,
          "elapsed": 5436,
          "user": {
            "displayName": "Yash Choubey",
            "photoUrl": "//lh5.googleusercontent.com/-UBdihS33LU4/AAAAAAAAAAI/AAAAAAAAEIA/Xb_W4xj5Wys/s50-c-k-no/photo.jpg",
            "userId": "116223453474966761812"
          }
        }
      },
      "cell_type": "code",
      "source": [
        "# evaluate the model of test data\n",
        "\n",
        "from sklearn.metrics import classification_report\n",
        "predictions = model.predict(x_test)\n",
        "#print(classification_report(predictions,y_test))\n",
        "print(\"Accuracy :\",model.evaluate(x_test,y_test))"
      ],
      "execution_count": 9,
      "outputs": [
        {
          "output_type": "stream",
          "text": [
            "394/394 [==============================] - 2s 6ms/step\n",
            "('Accuracy :', [1.8976286564986717, 0.6319796948263487])\n"
          ],
          "name": "stdout"
        }
      ]
    },
    {
      "metadata": {
        "id": "Q42ZTASNrPnK",
        "colab_type": "code",
        "colab": {
          "autoexec": {
            "startup": false,
            "wait_interval": 0
          },
          "base_uri": "https://localhost:8080/",
          "height": 571
        },
        "outputId": "da1b5533-e037-4876-9eaf-cd3b628c07b9",
        "executionInfo": {
          "status": "ok",
          "timestamp": 1528718629009,
          "user_tz": -330,
          "elapsed": 1160,
          "user": {
            "displayName": "Yash Choubey",
            "photoUrl": "//lh5.googleusercontent.com/-UBdihS33LU4/AAAAAAAAAAI/AAAAAAAAEIA/Xb_W4xj5Wys/s50-c-k-no/photo.jpg",
            "userId": "116223453474966761812"
          }
        }
      },
      "cell_type": "code",
      "source": [
        "import matplotlib.pyplot as plt\n",
        "\n",
        "%matplotlib inline\n",
        "plt.plot(history.history['acc'])\n",
        "plt.plot(history.history['val_acc'])\n",
        "plt.title('model accuracy')\n",
        "plt.ylabel('accuracy')\n",
        "plt.xlabel('epoch')\n",
        "plt.legend(['train', 'test'], loc='upper left')\n",
        "plt.show()\n",
        "plt.plot(history.history['loss'])\n",
        "plt.plot(history.history['val_loss'])\n",
        "plt.title('model loss')\n",
        "plt.ylabel('loss')\n",
        "plt.xlabel('epoch')\n",
        "plt.legend(['train', 'test'], loc='upper left')\n",
        "plt.show()"
      ],
      "execution_count": 23,
      "outputs": [
        {
          "output_type": "display_data",
          "data": {
            "image/png": "[encoded data removed]",
            "text/plain": [
              "<matplotlib.figure.Figure at 0x7faff0539450>"
            ]
          },
          "metadata": {
            "tags": []
          }
        },
        {
          "output_type": "display_data",
          "data": {
            "image/png": "[encoded data removed]",
            "text/plain": [
              "<matplotlib.figure.Figure at 0x7faff05fd990>"
            ]
          },
          "metadata": {
            "tags": []
          }
        }
      ]
    },
    {
      "metadata": {
        "id": "_OpURkhLrZYk",
        "colab_type": "code",
        "colab": {
          "autoexec": {
            "startup": false,
            "wait_interval": 0
          }
        }
      },
      "cell_type": "code",
      "source": [
        ""
      ],
      "execution_count": 0,
      "outputs": []
    }
  ]
}