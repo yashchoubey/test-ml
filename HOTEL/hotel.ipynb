{
 "cells": [
  {
   "cell_type": "code",
   "execution_count": 1,
   "metadata": {
    "colab": {
     "autoexec": {
      "startup": false,
      "wait_interval": 0
     },
     "base_uri": "https://localhost:8080/",
     "height": 406
    },
    "colab_type": "code",
    "executionInfo": {
     "elapsed": 42329,
     "status": "ok",
     "timestamp": 1528717525017,
     "user": {
      "displayName": "Yash Choubey",
      "photoUrl": "//lh5.googleusercontent.com/-UBdihS33LU4/AAAAAAAAAAI/AAAAAAAAEIA/Xb_W4xj5Wys/s50-c-k-no/photo.jpg",
      "userId": "116223453474966761812"
     },
     "user_tz": -330
    },
    "id": "ogmC919pA5oS",
    "outputId": "025a60b3-4ccb-4834-a260-bd121b49f4e6",
    "scrolled": true
   },
   "outputs": [],
   "source": [
    "# !wget https://s3.ap-south-1.amazonaws.com/discovery-nlp-data/embd.dat\n",
    "# !wget https://s3.ap-south-1.amazonaws.com/discovery-nlp-data/dataset.csv"
   ]
  },
  {
   "cell_type": "code",
   "execution_count": 2,
   "metadata": {
    "colab": {
     "autoexec": {
      "startup": false,
      "wait_interval": 0
     }
    },
    "colab_type": "code",
    "id": "U54yg4lCg4Mv",
    "scrolled": true
   },
   "outputs": [],
   "source": [
    "import pandas as pd\n",
    "import numpy as np\n",
    "import re\n",
    "df = pd.read_csv('dataset.csv',sep=\",\",header=None ,names=['sentence','type'])\n",
    "\n",
    "embedding_matrix=np.load(\"embd.dat\")"
   ]
  },
  {
   "cell_type": "code",
   "execution_count": 3,
   "metadata": {
    "colab": {
     "autoexec": {
      "startup": false,
      "wait_interval": 0
     },
     "base_uri": "https://localhost:8080/",
     "height": 35
    },
    "colab_type": "code",
    "executionInfo": {
     "elapsed": 8094,
     "status": "ok",
     "timestamp": 1528717534434,
     "user": {
      "displayName": "Yash Choubey",
      "photoUrl": "//lh5.googleusercontent.com/-UBdihS33LU4/AAAAAAAAAAI/AAAAAAAAEIA/Xb_W4xj5Wys/s50-c-k-no/photo.jpg",
      "userId": "116223453474966761812"
     },
     "user_tz": -330
    },
    "id": "NCQmVq5DVOyF",
    "outputId": "226dc5c5-3608-4abe-c142-70b71bb5c7f4",
    "scrolled": true
   },
   "outputs": [
    {
     "name": "stderr",
     "output_type": "stream",
     "text": [
      "Using TensorFlow backend.\n"
     ]
    }
   ],
   "source": [
    "Y = df['type']\n",
    "from sklearn import preprocessing\n",
    "from keras.utils.np_utils import to_categorical\n",
    "\n",
    "le = preprocessing.LabelEncoder()\n",
    "le.fit(Y)\n",
    "Y=le.transform(Y) \n",
    "labels = to_categorical(np.asarray(Y))\n"
   ]
  },
  {
   "cell_type": "code",
   "execution_count": 4,
   "metadata": {
    "colab": {
     "autoexec": {
      "startup": false,
      "wait_interval": 0
     }
    },
    "colab_type": "code",
    "id": "WVTnzJ-UoHjj",
    "scrolled": true
   },
   "outputs": [],
   "source": [
    "from keras.preprocessing.text import Tokenizer\n",
    "from keras.preprocessing.sequence import pad_sequences\n",
    "# from unidecode import unidecode\n",
    "# fit_on_texts(textdata))\n",
    "MAX_NB_WORDS = 16384\n",
    "MAX_SEQUENCE_LENGTH=128\n"
   ]
  },
  {
   "cell_type": "code",
   "execution_count": 5,
   "metadata": {
    "colab": {
     "autoexec": {
      "startup": false,
      "wait_interval": 0
     },
     "base_uri": "https://localhost:8080/",
     "height": 35
    },
    "colab_type": "code",
    "executionInfo": {
     "elapsed": 1612,
     "status": "ok",
     "timestamp": 1528717552874,
     "user": {
      "displayName": "Yash Choubey",
      "photoUrl": "//lh5.googleusercontent.com/-UBdihS33LU4/AAAAAAAAAAI/AAAAAAAAEIA/Xb_W4xj5Wys/s50-c-k-no/photo.jpg",
      "userId": "116223453474966761812"
     },
     "user_tz": -330
    },
    "id": "u-1gdoCzVbO7",
    "outputId": "24e71a62-d8f6-416d-864f-76acdfd13c5d",
    "scrolled": true
   },
   "outputs": [
    {
     "name": "stdout",
     "output_type": "stream",
     "text": [
      "Found 3650 unique tokens.\n"
     ]
    }
   ],
   "source": [
    "tokenizer = Tokenizer(num_words=MAX_NB_WORDS, split=' ')\n",
    "\n",
    "alist=[str(x) for x in df['sentence'].values ]\n",
    "tokenizer.fit_on_texts(alist)\n",
    "X=tokenizer.texts_to_sequences(alist)\n",
    "X = pad_sequences(X, maxlen=MAX_SEQUENCE_LENGTH)\n",
    "\n",
    "\n",
    "word_index = tokenizer.word_index\n",
    "print('Found %s unique tokens.' % len(word_index))\n",
    "\n",
    "from sklearn.model_selection import train_test_split\n",
    "x_train, x_test, y_train, y_test = train_test_split(X, labels, test_size = 0.2)\n"
   ]
  },
  {
   "cell_type": "code",
   "execution_count": 6,
   "metadata": {
    "colab": {
     "autoexec": {
      "startup": false,
      "wait_interval": 0
     }
    },
    "colab_type": "code",
    "id": "V0nmi0-fVqsm",
    "outputId": "489eb01c-f9c5-4e99-be5f-77eca28307e8",
    "scrolled": true
   },
   "outputs": [],
   "source": [
    "# embeddings_index = {}\n",
    "\n",
    "# f = open('/home/yash/glove.42B.300d.txt')\n",
    "# for line in f:\n",
    "#     #print line\n",
    "#     values = line.split()\n",
    "#     word = values[0]\n",
    "#     coefs = np.asarray(values[1:], dtype='float32')\n",
    "#     embeddings_index[word] = coefs\n",
    "# f.close()\n",
    "\n",
    "# print('Found %s word vectors.' % len(embeddings_index))\n",
    "\n",
    "\n",
    "# word_index = tokenizer.word_index\n",
    "# print('Found %s unique tokens.' % len(word_index))\n",
    "\n",
    "# emb_dimension=300\n",
    "# embedding_matrix = np.zeros((len(word_index) + 1, emb_dimension))\n",
    "# for word, i in word_index.items():\n",
    "#     embedding_vector = embeddings_index.get(word)\n",
    "#     if embedding_vector is not None:\n",
    "#         # words not found in embedding index will be all-zeros.\n",
    "#         embedding_matrix[i] = embedding_vector\n",
    "        \n",
    "# embedding_matrix.dump('embd.dat')"
   ]
  },
  {
   "cell_type": "code",
   "execution_count": 7,
   "metadata": {
    "colab": {
     "autoexec": {
      "startup": false,
      "wait_interval": 0
     },
     "base_uri": "https://localhost:8080/",
     "height": 282
    },
    "colab_type": "code",
    "executionInfo": {
     "elapsed": 2887,
     "status": "ok",
     "timestamp": 1528718220726,
     "user": {
      "displayName": "Yash Choubey",
      "photoUrl": "//lh5.googleusercontent.com/-UBdihS33LU4/AAAAAAAAAAI/AAAAAAAAEIA/Xb_W4xj5Wys/s50-c-k-no/photo.jpg",
      "userId": "116223453474966761812"
     },
     "user_tz": -330
    },
    "id": "s9wDyWOcU34Z",
    "outputId": "d635e11f-1e4f-42e1-f9be-814f4bb67ad9",
    "scrolled": true
   },
   "outputs": [
    {
     "name": "stdout",
     "output_type": "stream",
     "text": [
      "_________________________________________________________________\n",
      "Layer (type)                 Output Shape              Param #   \n",
      "=================================================================\n",
      "embedding_1 (Embedding)      (None, 128, 300)          1095300   \n",
      "_________________________________________________________________\n",
      "lstm_1 (LSTM)                (None, 128, 256)          570368    \n",
      "_________________________________________________________________\n",
      "lstm_2 (LSTM)                (None, 128)               197120    \n",
      "_________________________________________________________________\n",
      "dense_1 (Dense)              (None, 4)                 516       \n",
      "=================================================================\n",
      "Total params: 1,863,304\n",
      "Trainable params: 768,004\n",
      "Non-trainable params: 1,095,300\n",
      "_________________________________________________________________\n"
     ]
    }
   ],
   "source": [
    "from keras.models import Sequential\n",
    "from keras.layers import Dense, LSTM, Embedding\n",
    "from keras.callbacks import History \n",
    "from keras import initializers,regularizers,optimizers\n",
    "\n",
    "history = History()\n",
    "model = Sequential()\n",
    "model.add(Embedding(len(word_index)+1,\n",
    "                            300,\n",
    "                            weights=[embedding_matrix],\n",
    "                            input_length=MAX_SEQUENCE_LENGTH,\n",
    "                            trainable=False\n",
    "                   ))\n",
    "\n",
    "model.add(LSTM(256,\n",
    "               return_sequences=True, \n",
    "               #dropout=0.4, \n",
    "               #recurrent_dropout=0.4, \n",
    "               #activation='relu',#Default:tanh\n",
    "               #recurrent_activation #Default:hard_sigmoid\n",
    "               #kernel_regularizer=regularizers.l2(0.001),\n",
    "               # activity_regularizer=regularizers.l1(0.01)))\n",
    "               kernel_initializer='lecun_normal',\n",
    "               use_bias=True,\n",
    "               bias_initializer='ones'#'random_uniform''random_normal','zeros','truncated_normal','variance_scaling','orthogonal','lecun_uniform','glorot_normal','glorot_uniform','he_normal','lecun_normal'             \n",
    "              ))\n",
    "\n",
    "model.add(LSTM(128, \n",
    "               #dropout=0.4,\n",
    "               #return_sequences=True,\n",
    "               #recurrent_dropout=0.4, \n",
    "               #activation='relu',\n",
    "               #kernel_initializer='lecun_normal',\n",
    "               #kernel_regularizer=regularizers.l2(0.001)\n",
    "               use_bias=True,\n",
    "               bias_initializer='ones'#'random_uniform''random_normal','zeros','truncated_normal','variance_scaling','orthogonal','lecun_uniform','glorot_normal','glorot_uniform','he_normal','lecun_normal'             \n",
    "              ))\n",
    "\n",
    "# model.add(LSTM(64, \n",
    "#                #dropout=0.4,\n",
    "#                #return_sequences=True,\n",
    "#                #recurrent_dropout=0.4, \n",
    "#                #activation='relu',\n",
    "#                #kernel_initializer='lecun_normal',\n",
    "#                #kernel_regularizer=regularizers.l2(0.001)\n",
    "#                use_bias=True,\n",
    "#                bias_initializer='ones'#'random_uniform''random_normal','zeros','truncated_normal','variance_scaling','orthogonal','lecun_uniform','glorot_normal','glorot_uniform','he_normal','lecun_normal'             \n",
    "#               ))\n",
    "\n",
    "#model.add(LSTM(256, dropout_U=0.5, dropout_W=0.5, activation='relu', kernel_regularizer=l2_reg))\n",
    "model.add(Dense(4,activation='softmax'))#,kernel_regularizer=regularizers.l2(0.01), activity_regularizer=regularizers.l1(0.01)))\n",
    "rmsprop = optimizers.Adam(lr=0.001, beta_1=0.9, beta_2=0.999)\n",
    "model.compile(loss = 'categorical_crossentropy', optimizer=rmsprop,metrics = ['accuracy'])\n",
    "model.summary()"
   ]
  },
  {
   "cell_type": "code",
   "execution_count": 8,
   "metadata": {
    "colab": {
     "autoexec": {
      "startup": false,
      "wait_interval": 0
     },
     "base_uri": "https://localhost:8080/",
     "height": 7111
    },
    "colab_type": "code",
    "executionInfo": {
     "elapsed": 314970,
     "status": "ok",
     "timestamp": 1528718615388,
     "user": {
      "displayName": "Yash Choubey",
      "photoUrl": "//lh5.googleusercontent.com/-UBdihS33LU4/AAAAAAAAAAI/AAAAAAAAEIA/Xb_W4xj5Wys/s50-c-k-no/photo.jpg",
      "userId": "116223453474966761812"
     },
     "user_tz": -330
    },
    "id": "OeDFyM04U38q",
    "outputId": "e8494034-76f3-44a2-b27d-ed69d1de5a53",
    "scrolled": false
   },
   "outputs": [
    {
     "name": "stdout",
     "output_type": "stream",
     "text": [
      "Train on 1575 samples, validate on 394 samples\n",
      "Epoch 1/1000\n",
      "1575/1575 [==============================] - 3s 2ms/step - loss: 1.5878 - acc: 0.2654 - val_loss: 1.4110 - val_acc: 0.3223\n",
      "Epoch 2/1000\n",
      "1575/1575 [==============================] - 2s 1ms/step - loss: 1.4343 - acc: 0.3022 - val_loss: 1.3679 - val_acc: 0.3223\n",
      "Epoch 3/1000\n",
      "1575/1575 [==============================] - 2s 1ms/step - loss: 1.3568 - acc: 0.3168 - val_loss: 1.3319 - val_acc: 0.3198\n",
      "Epoch 4/1000\n",
      "1575/1575 [==============================] - 2s 1ms/step - loss: 1.3274 - acc: 0.3378 - val_loss: 1.3455 - val_acc: 0.3198\n",
      "Epoch 5/1000\n",
      "1575/1575 [==============================] - 2s 1ms/step - loss: 1.3281 - acc: 0.3384 - val_loss: 1.3249 - val_acc: 0.3376\n",
      "Epoch 6/1000\n",
      "1575/1575 [==============================] - 2s 1ms/step - loss: 1.3147 - acc: 0.3562 - val_loss: 1.2894 - val_acc: 0.3807\n",
      "Epoch 7/1000\n",
      "1575/1575 [==============================] - 2s 1ms/step - loss: 1.2795 - acc: 0.4381 - val_loss: 1.2754 - val_acc: 0.4340\n",
      "Epoch 8/1000\n",
      "1575/1575 [==============================] - 2s 1ms/step - loss: 1.2672 - acc: 0.4184 - val_loss: 1.2685 - val_acc: 0.4137\n",
      "Epoch 9/1000\n",
      "1575/1575 [==============================] - 2s 1ms/step - loss: 1.2523 - acc: 0.4698 - val_loss: 1.2349 - val_acc: 0.4797\n",
      "Epoch 10/1000\n",
      "1575/1575 [==============================] - 2s 1ms/step - loss: 1.2233 - acc: 0.4717 - val_loss: 1.2062 - val_acc: 0.4822\n",
      "Epoch 11/1000\n",
      "1575/1575 [==============================] - 2s 1ms/step - loss: 1.1795 - acc: 0.5073 - val_loss: 1.1679 - val_acc: 0.5051\n",
      "Epoch 12/1000\n",
      "1575/1575 [==============================] - 2s 1ms/step - loss: 1.1484 - acc: 0.5086 - val_loss: 1.1410 - val_acc: 0.5812\n",
      "Epoch 13/1000\n",
      "1575/1575 [==============================] - 2s 1ms/step - loss: 1.1080 - acc: 0.6076 - val_loss: 1.0903 - val_acc: 0.5102\n",
      "Epoch 14/1000\n",
      "1575/1575 [==============================] - 2s 1ms/step - loss: 1.0601 - acc: 0.5416 - val_loss: 1.1403 - val_acc: 0.4137\n",
      "Epoch 15/1000\n",
      "1575/1575 [==============================] - 2s 1ms/step - loss: 1.0629 - acc: 0.5213 - val_loss: 1.0692 - val_acc: 0.5558\n",
      "Epoch 16/1000\n",
      "1575/1575 [==============================] - 2s 1ms/step - loss: 1.0121 - acc: 0.5994 - val_loss: 0.9859 - val_acc: 0.6193\n",
      "Epoch 17/1000\n",
      "1575/1575 [==============================] - 2s 1ms/step - loss: 0.9523 - acc: 0.6076 - val_loss: 0.9174 - val_acc: 0.6193\n",
      "Epoch 18/1000\n",
      "1575/1575 [==============================] - 2s 1ms/step - loss: 0.8862 - acc: 0.6673 - val_loss: 0.9179 - val_acc: 0.6269\n",
      "Epoch 19/1000\n",
      "1575/1575 [==============================] - 2s 1ms/step - loss: 0.8494 - acc: 0.6762 - val_loss: 0.9113 - val_acc: 0.6294\n",
      "Epoch 20/1000\n",
      "1575/1575 [==============================] - 2s 1ms/step - loss: 0.8113 - acc: 0.6921 - val_loss: 0.8467 - val_acc: 0.6675\n",
      "Epoch 21/1000\n",
      "1575/1575 [==============================] - 2s 1ms/step - loss: 0.7598 - acc: 0.7219 - val_loss: 0.8377 - val_acc: 0.6523\n",
      "Epoch 22/1000\n",
      "1575/1575 [==============================] - 2s 1ms/step - loss: 0.7669 - acc: 0.7162 - val_loss: 0.7991 - val_acc: 0.6777\n",
      "Epoch 23/1000\n",
      "1575/1575 [==============================] - 2s 1ms/step - loss: 0.6924 - acc: 0.7270 - val_loss: 0.7883 - val_acc: 0.6904\n",
      "Epoch 24/1000\n",
      "1575/1575 [==============================] - 2s 1ms/step - loss: 0.6704 - acc: 0.7549 - val_loss: 0.7736 - val_acc: 0.6726\n",
      "Epoch 25/1000\n",
      "1575/1575 [==============================] - 2s 1ms/step - loss: 0.6389 - acc: 0.7619 - val_loss: 0.7594 - val_acc: 0.6980\n",
      "Epoch 26/1000\n",
      "1575/1575 [==============================] - 2s 1ms/step - loss: 0.6287 - acc: 0.7644 - val_loss: 0.7410 - val_acc: 0.6954\n",
      "Epoch 27/1000\n",
      "1575/1575 [==============================] - 2s 1ms/step - loss: 0.5904 - acc: 0.7892 - val_loss: 0.7610 - val_acc: 0.7030\n",
      "Epoch 28/1000\n",
      "1575/1575 [==============================] - 2s 1ms/step - loss: 0.5809 - acc: 0.7956 - val_loss: 0.7304 - val_acc: 0.7081\n",
      "Epoch 29/1000\n",
      "1575/1575 [==============================] - 2s 1ms/step - loss: 0.5672 - acc: 0.8000 - val_loss: 0.7105 - val_acc: 0.7183\n",
      "Epoch 30/1000\n",
      "1575/1575 [==============================] - 2s 1ms/step - loss: 0.5423 - acc: 0.8025 - val_loss: 0.7143 - val_acc: 0.7107\n",
      "Epoch 31/1000\n",
      "1575/1575 [==============================] - 2s 1ms/step - loss: 0.5298 - acc: 0.8038 - val_loss: 0.7090 - val_acc: 0.7081\n",
      "Epoch 32/1000\n",
      "1575/1575 [==============================] - 2s 1ms/step - loss: 0.5082 - acc: 0.8197 - val_loss: 0.7006 - val_acc: 0.7208\n",
      "Epoch 33/1000\n",
      "1575/1575 [==============================] - 2s 1ms/step - loss: 0.4930 - acc: 0.8241 - val_loss: 0.6997 - val_acc: 0.7310\n",
      "Epoch 34/1000\n",
      "1575/1575 [==============================] - 2s 1ms/step - loss: 0.4744 - acc: 0.8260 - val_loss: 0.6910 - val_acc: 0.7360\n",
      "Epoch 35/1000\n",
      "1575/1575 [==============================] - 2s 1ms/step - loss: 0.4571 - acc: 0.8356 - val_loss: 0.7052 - val_acc: 0.7462\n",
      "Epoch 36/1000\n",
      "1575/1575 [==============================] - 2s 1ms/step - loss: 0.4587 - acc: 0.8311 - val_loss: 0.6823 - val_acc: 0.7411\n",
      "Epoch 37/1000\n",
      "1575/1575 [==============================] - 2s 1ms/step - loss: 0.4694 - acc: 0.8190 - val_loss: 0.6854 - val_acc: 0.7411\n",
      "Epoch 38/1000\n",
      "1575/1575 [==============================] - 2s 1ms/step - loss: 0.4341 - acc: 0.8451 - val_loss: 0.6840 - val_acc: 0.7589\n",
      "Epoch 39/1000\n",
      "1575/1575 [==============================] - 2s 1ms/step - loss: 0.4187 - acc: 0.8489 - val_loss: 0.6844 - val_acc: 0.7487\n",
      "Epoch 40/1000\n",
      "1575/1575 [==============================] - 2s 1ms/step - loss: 0.4029 - acc: 0.8584 - val_loss: 0.6954 - val_acc: 0.7462\n",
      "Epoch 41/1000\n",
      "1575/1575 [==============================] - 2s 1ms/step - loss: 0.3846 - acc: 0.8629 - val_loss: 0.7002 - val_acc: 0.7437\n",
      "Epoch 00041: early stopping\n"
     ]
    }
   ],
   "source": [
    "\n",
    "from keras.callbacks import History ,ReduceLROnPlateau,EarlyStopping,TensorBoard\n",
    "reduce_lr = ReduceLROnPlateau(monitor='val_loss', factor=0.5,patience=25, verbose=1, min_lr=0.0001, cooldown=15)\n",
    "early_stop = EarlyStopping(monitor='val_loss', min_delta=0, patience=5, verbose=1, mode='auto')\n",
    "tlog=TensorBoard(log_dir='logs', histogram_freq=0,\n",
    "                            batch_size=32, write_graph=True,\n",
    "                            write_grads=False, write_images=False,\n",
    "                            embeddings_freq=0, embeddings_layer_names=None)\n",
    "history=model.fit(x_train, y_train,\n",
    "          batch_size=790,\n",
    "          epochs=1000,\n",
    "          verbose=1,\n",
    "          callbacks=[reduce_lr,early_stop,tlog],\n",
    "          validation_data=(x_test, y_test))"
   ]
  },
  {
   "cell_type": "code",
   "execution_count": 9,
   "metadata": {
    "colab": {
     "autoexec": {
      "startup": false,
      "wait_interval": 0
     }
    },
    "colab_type": "code",
    "id": "q8_yS5rUU4AI",
    "outputId": "b8499c25-b3a4-4412-c930-71b860d778d6",
    "scrolled": true
   },
   "outputs": [
    {
     "name": "stdout",
     "output_type": "stream",
     "text": [
      "[[0.8584988  0.0060826  0.11390137 0.02151725]] <type 'numpy.ndarray'>\n"
     ]
    },
    {
     "name": "stderr",
     "output_type": "stream",
     "text": [
      "/usr/local/lib/python2.7/dist-packages/sklearn/preprocessing/label.py:151: DeprecationWarning: The truth value of an empty array is ambiguous. Returning False, but in future this will result in an error. Use `array.size > 0` to check that an array is not empty.\n",
      "  if diff:\n"
     ]
    },
    {
     "data": {
      "text/plain": [
       "'FB'"
      ]
     },
     "execution_count": 9,
     "metadata": {},
     "output_type": "execute_result"
    }
   ],
   "source": [
    "example = tokenizer.texts_to_sequences([\"food was worse but bed was good\"])\n",
    "example = pad_sequences(example, maxlen=128)\n",
    "print model.predict(example),type(model.predict(example))\n",
    "le.inverse_transform(np.argmax(model.predict(example)))"
   ]
  },
  {
   "cell_type": "code",
   "execution_count": 10,
   "metadata": {
    "colab": {
     "autoexec": {
      "startup": false,
      "wait_interval": 0
     },
     "base_uri": "https://localhost:8080/",
     "height": 52
    },
    "colab_type": "code",
    "executionInfo": {
     "elapsed": 5436,
     "status": "ok",
     "timestamp": 1528717709130,
     "user": {
      "displayName": "Yash Choubey",
      "photoUrl": "//lh5.googleusercontent.com/-UBdihS33LU4/AAAAAAAAAAI/AAAAAAAAEIA/Xb_W4xj5Wys/s50-c-k-no/photo.jpg",
      "userId": "116223453474966761812"
     },
     "user_tz": -330
    },
    "id": "s3DkfrwyU4Dr",
    "outputId": "89ed7849-82b9-4459-8333-03aed82e3255",
    "scrolled": true
   },
   "outputs": [
    {
     "name": "stdout",
     "output_type": "stream",
     "text": [
      "394/394 [==============================] - 1s 1ms/step\n",
      "('Accuracy :', [0.7002389853073255, 0.743654821729902])\n"
     ]
    }
   ],
   "source": [
    "# evaluate the model of test data\n",
    "\n",
    "from sklearn.metrics import classification_report\n",
    "predictions = model.predict(x_test)\n",
    "#print(classification_report(predictions,y_test))\n",
    "print(\"Accuracy :\",model.evaluate(x_test,y_test))"
   ]
  },
  {
   "cell_type": "code",
   "execution_count": 11,
   "metadata": {
    "colab": {
     "autoexec": {
      "startup": false,
      "wait_interval": 0
     },
     "base_uri": "https://localhost:8080/",
     "height": 571
    },
    "colab_type": "code",
    "executionInfo": {
     "elapsed": 1160,
     "status": "ok",
     "timestamp": 1528718629009,
     "user": {
      "displayName": "Yash Choubey",
      "photoUrl": "//lh5.googleusercontent.com/-UBdihS33LU4/AAAAAAAAAAI/AAAAAAAAEIA/Xb_W4xj5Wys/s50-c-k-no/photo.jpg",
      "userId": "116223453474966761812"
     },
     "user_tz": -330
    },
    "id": "Q42ZTASNrPnK",
    "outputId": "da1b5533-e037-4876-9eaf-cd3b628c07b9",
    "scrolled": true
   },
   "outputs": [
    {
     "data": {
      "image/png": "[encoded data removed]",
      "text/plain": [
       "<Figure size 432x288 with 1 Axes>"
      ]
     },
     "metadata": {},
     "output_type": "display_data"
    },
    {
     "data": {
      "image/png": "[encoded data removed]",
      "text/plain": [
       "<Figure size 432x288 with 1 Axes>"
      ]
     },
     "metadata": {},
     "output_type": "display_data"
    }
   ],
   "source": [
    "import matplotlib.pyplot as plt\n",
    "\n",
    "%matplotlib inline\n",
    "plt.plot(history.history['acc'])\n",
    "plt.plot(history.history['val_acc'])\n",
    "plt.title('model accuracy')\n",
    "plt.ylabel('accuracy')\n",
    "plt.xlabel('epoch')\n",
    "plt.legend(['train', 'test'], loc='upper left')\n",
    "plt.show()\n",
    "plt.plot(history.history['loss'])\n",
    "plt.plot(history.history['val_loss'])\n",
    "plt.title('model loss')\n",
    "plt.ylabel('loss')\n",
    "plt.xlabel('epoch')\n",
    "plt.legend(['train', 'test'], loc='upper left')\n",
    "plt.show()"
   ]
  },
  {
   "cell_type": "code",
   "execution_count": 12,
   "metadata": {
    "colab": {
     "autoexec": {
      "startup": false,
      "wait_interval": 0
     }
    },
    "colab_type": "code",
    "id": "_OpURkhLrZYk",
    "scrolled": true
   },
   "outputs": [],
   "source": [
    "import h5py\n",
    "# h5py.run_tests()\n",
    "model.save('zero_model.h5')"
   ]
  },
  {
   "cell_type": "code",
   "execution_count": 13,
   "metadata": {
    "scrolled": true
   },
   "outputs": [
    {
     "ename": "SyntaxError",
     "evalue": "can't assign to operator (<ipython-input-13-65f3ff565f9e>, line 1)",
     "output_type": "error",
     "traceback": [
      "\u001b[0;36m  File \u001b[0;32m\"<ipython-input-13-65f3ff565f9e>\"\u001b[0;36m, line \u001b[0;32m1\u001b[0m\n\u001b[0;31m    tensorboard --logdir=\"/home/yash/logs\"\u001b[0m\n\u001b[0;31mSyntaxError\u001b[0m\u001b[0;31m:\u001b[0m can't assign to operator\n"
     ]
    }
   ],
   "source": [
    "tensorboard --logdir=\"/home/yash/logs\""
   ]
  },
  {
   "cell_type": "code",
   "execution_count": null,
   "metadata": {},
   "outputs": [],
   "source": []
  }
 ],
 "metadata": {
  "accelerator": "GPU",
  "colab": {
   "collapsed_sections": [],
   "default_view": {},
   "name": "hotel.ipynb",
   "provenance": [],
   "version": "0.3.2",
   "views": {}
  },
  "kernelspec": {
   "display_name": "Python 2",
   "language": "python",
   "name": "python2"
  },
  "language_info": {
   "codemirror_mode": {
    "name": "ipython",
    "version": 2
   },
   "file_extension": ".py",
   "mimetype": "text/x-python",
   "name": "python",
   "nbconvert_exporter": "python",
   "pygments_lexer": "ipython2",
   "version": "2.7.12"
  }
 },
 "nbformat": 4,
 "nbformat_minor": 1
}
