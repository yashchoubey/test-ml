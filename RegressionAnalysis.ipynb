{
 "cells": [
  {
   "cell_type": "code",
   "execution_count": 46,
   "metadata": {},
   "outputs": [],
   "source": [
    "import pandas as pd\n",
    "import numpy as np\n",
    "import matplotlib.pyplot as plt\n",
    "%matplotlib inline\n",
    "%config InlineBackend.figure_format = 'retina'\n",
    "from pandas.plotting import scatter_matrix\n",
    "import math"
   ]
  },
  {
   "cell_type": "code",
   "execution_count": 47,
   "metadata": {},
   "outputs": [
    {
     "data": {
      "text/plain": [
       "(19146, 17)"
      ]
     },
     "execution_count": 47,
     "metadata": {},
     "output_type": "execute_result"
    }
   ],
   "source": [
    "df=pd.read_csv('final.csv')\n",
    "df.shape"
   ]
  },
  {
   "cell_type": "code",
   "execution_count": 48,
   "metadata": {},
   "outputs": [
    {
     "data": {
      "text/plain": [
       "(34, 17)"
      ]
     },
     "execution_count": 48,
     "metadata": {},
     "output_type": "execute_result"
    }
   ],
   "source": [
    "df[df['totalJams']>1000].shape"
   ]
  },
  {
   "cell_type": "code",
   "execution_count": 49,
   "metadata": {},
   "outputs": [],
   "source": [
    "# df=df[df['totalJams']<5000]"
   ]
  },
  {
   "cell_type": "code",
   "execution_count": 50,
   "metadata": {},
   "outputs": [
    {
     "name": "stdout",
     "output_type": "stream",
     "text": [
      "2418\n",
      "2418\n",
      "2418\n",
      "637\n"
     ]
    }
   ],
   "source": [
    "print df['haikuId'].isna().sum()\n",
    "print df['l1time'].isna().sum()\n",
    "print df['l3time'].isna().sum()\n",
    "print df['spellScore'].isna().sum()\n"
   ]
  },
  {
   "cell_type": "code",
   "execution_count": 51,
   "metadata": {},
   "outputs": [
    {
     "name": "stdout",
     "output_type": "stream",
     "text": [
      "(2418, 17)\n",
      "509\n",
      "(19146, 17)\n"
     ]
    }
   ],
   "source": [
    "do1=df[df['haikuId'].isna()==True]\n",
    "print do1.shape\n",
    "print do1['spellScore'].isna().sum()\n",
    "# df=df.dropna()\n",
    "print df.shape"
   ]
  },
  {
   "cell_type": "code",
   "execution_count": null,
   "metadata": {},
   "outputs": [],
   "source": []
  },
  {
   "cell_type": "code",
   "execution_count": 52,
   "metadata": {},
   "outputs": [
    {
     "name": "stdout",
     "output_type": "stream",
     "text": [
      "user_id                 0\n",
      "hjHandle                0\n",
      "spellScore            637\n",
      "amplitude_id            0\n",
      "haikuId              2418\n",
      "l1time               2418\n",
      "l1uid                2418\n",
      "l2time               2418\n",
      "l2uid                2418\n",
      "l3time               2418\n",
      "l3uid                2418\n",
      "timeStampLike        8557\n",
      "timeStampComment    12440\n",
      "totalJams               0\n",
      "line1                2418\n",
      "line2                2418\n",
      "line3                2418\n",
      "dtype: int64\n",
      "(16728, 17)\n"
     ]
    }
   ],
   "source": [
    "print df.isna().sum()\n",
    "df=df.fillna(value={'timeStampLike':9999999999999,'timeStampComment':9999999999999,'spellScore':0})\n",
    "df=df.dropna()\n",
    "print df.shape\n",
    "# print df.isna().sum()"
   ]
  },
  {
   "cell_type": "code",
   "execution_count": 79,
   "metadata": {},
   "outputs": [],
   "source": [
    "df['t1']=df['l2time']-df['l1time']\n",
    "df['t2']=df['l3time']-df['l2time']\n",
    "# df['tf']=df['l3time']-df['l1time']\n",
    "df['tl']=df['timeStampLike']-df['l1time']\n",
    "df['tc']=df['timeStampComment']-df['l1time']\n",
    "\n",
    "\n",
    "df['pass']=df['totalJams'].apply(lambda x : 1 if x >2 else 0)\n",
    "# dtf=df[['tf','t2','t1','spellScore','pass','totalJams','tl','tc']]\n",
    "dtf=df[['t2','t1','spellScore','pass','totalJams','tl','tc']]"
   ]
  },
  {
   "cell_type": "code",
   "execution_count": 80,
   "metadata": {},
   "outputs": [
    {
     "data": {
      "text/html": [
       "<div>\n",
       "<style scoped>\n",
       "    .dataframe tbody tr th:only-of-type {\n",
       "        vertical-align: middle;\n",
       "    }\n",
       "\n",
       "    .dataframe tbody tr th {\n",
       "        vertical-align: top;\n",
       "    }\n",
       "\n",
       "    .dataframe thead th {\n",
       "        text-align: right;\n",
       "    }\n",
       "</style>\n",
       "<table border=\"1\" class=\"dataframe\">\n",
       "  <thead>\n",
       "    <tr style=\"text-align: right;\">\n",
       "      <th></th>\n",
       "      <th>user_id</th>\n",
       "      <th>hjHandle</th>\n",
       "      <th>spellScore</th>\n",
       "      <th>amplitude_id</th>\n",
       "      <th>haikuId</th>\n",
       "      <th>l1time</th>\n",
       "      <th>l1uid</th>\n",
       "      <th>l2time</th>\n",
       "      <th>l2uid</th>\n",
       "      <th>l3time</th>\n",
       "      <th>...</th>\n",
       "      <th>timeStampComment</th>\n",
       "      <th>totalJams</th>\n",
       "      <th>line1</th>\n",
       "      <th>line2</th>\n",
       "      <th>line3</th>\n",
       "      <th>t1</th>\n",
       "      <th>t2</th>\n",
       "      <th>tl</th>\n",
       "      <th>tc</th>\n",
       "      <th>pass</th>\n",
       "    </tr>\n",
       "  </thead>\n",
       "  <tbody>\n",
       "    <tr>\n",
       "      <th>0</th>\n",
       "      <td>5bdc6e23e6b52c1e197b08b5</td>\n",
       "      <td>raghavrathi</td>\n",
       "      <td>0.0</td>\n",
       "      <td>71235384773</td>\n",
       "      <td>5be6fae09a79e23e40d71b47</td>\n",
       "      <td>1.541864e+12</td>\n",
       "      <td>5be6fae09a79e23e40d71b47</td>\n",
       "      <td>1.541864e+12</td>\n",
       "      <td>5be6fae09a79e23e40d71b47</td>\n",
       "      <td>1.541864e+12</td>\n",
       "      <td>...</td>\n",
       "      <td>1.000000e+13</td>\n",
       "      <td>2.0</td>\n",
       "      <td>angel of the morning</td>\n",
       "      <td>staring through the window</td>\n",
       "      <td>sweet breez</td>\n",
       "      <td>73343.0</td>\n",
       "      <td>94076.0</td>\n",
       "      <td>2.966910e+05</td>\n",
       "      <td>8.458136e+12</td>\n",
       "      <td>0</td>\n",
       "    </tr>\n",
       "    <tr>\n",
       "      <th>2</th>\n",
       "      <td>5be1afae917ca24330e8bc4c</td>\n",
       "      <td>test123584</td>\n",
       "      <td>0.0</td>\n",
       "      <td>71649696909</td>\n",
       "      <td>5be1afcca21c5764599163ae</td>\n",
       "      <td>1.541517e+12</td>\n",
       "      <td>5be1afcca21c5764599163ae</td>\n",
       "      <td>1.541517e+12</td>\n",
       "      <td>5be1afcca21c5764599163ae</td>\n",
       "      <td>1.541518e+12</td>\n",
       "      <td>...</td>\n",
       "      <td>1.541518e+12</td>\n",
       "      <td>2.0</td>\n",
       "      <td>I love eating</td>\n",
       "      <td>Roasted pig and cow</td>\n",
       "      <td>what about her \"meow\"😂</td>\n",
       "      <td>36539.0</td>\n",
       "      <td>359980.0</td>\n",
       "      <td>8.458483e+12</td>\n",
       "      <td>4.566060e+05</td>\n",
       "      <td>0</td>\n",
       "    </tr>\n",
       "    <tr>\n",
       "      <th>3</th>\n",
       "      <td>5be1b7044ac7051ceedad817</td>\n",
       "      <td>anaghsoman</td>\n",
       "      <td>0.0</td>\n",
       "      <td>71653426478</td>\n",
       "      <td>5be1b74574386147ef9a85b5</td>\n",
       "      <td>1.541519e+12</td>\n",
       "      <td>5be1b74574386147ef9a85b5</td>\n",
       "      <td>1.541630e+12</td>\n",
       "      <td>5be1b74574386147ef9a85b5</td>\n",
       "      <td>1.541631e+12</td>\n",
       "      <td>...</td>\n",
       "      <td>1.541631e+12</td>\n",
       "      <td>3.0</td>\n",
       "      <td>A chilly hotness subduing hate</td>\n",
       "      <td>just good enough for a decent date</td>\n",
       "      <td>which is not been so,late</td>\n",
       "      <td>110536234.0</td>\n",
       "      <td>1081126.0</td>\n",
       "      <td>8.458481e+12</td>\n",
       "      <td>1.116775e+08</td>\n",
       "      <td>1</td>\n",
       "    </tr>\n",
       "    <tr>\n",
       "      <th>4</th>\n",
       "      <td>5be1b75de870d652b20843f1</td>\n",
       "      <td>itzmimi143</td>\n",
       "      <td>0.0</td>\n",
       "      <td>71653590330</td>\n",
       "      <td>5be1b81c4ac7051ceedada80</td>\n",
       "      <td>1.541519e+12</td>\n",
       "      <td>5be1b81c4ac7051ceedada80</td>\n",
       "      <td>1.541520e+12</td>\n",
       "      <td>5be1b81c4ac7051ceedada80</td>\n",
       "      <td>1.541520e+12</td>\n",
       "      <td>...</td>\n",
       "      <td>1.000000e+13</td>\n",
       "      <td>313.0</td>\n",
       "      <td>Innocent me and innocent world</td>\n",
       "      <td>lollipops, stuff toys, and playmates I enjoy</td>\n",
       "      <td>lunchboxes packed with maa's love.</td>\n",
       "      <td>401022.0</td>\n",
       "      <td>432404.0</td>\n",
       "      <td>8.515230e+05</td>\n",
       "      <td>8.458481e+12</td>\n",
       "      <td>1</td>\n",
       "    </tr>\n",
       "    <tr>\n",
       "      <th>5</th>\n",
       "      <td>5be1b79e2e88e4409f473489</td>\n",
       "      <td>nandakishornair441</td>\n",
       "      <td>0.0</td>\n",
       "      <td>71653788278</td>\n",
       "      <td>5be1b7e574386147ef9a8795</td>\n",
       "      <td>1.541519e+12</td>\n",
       "      <td>5be1b7e574386147ef9a8795</td>\n",
       "      <td>1.541664e+12</td>\n",
       "      <td>5be1b7e574386147ef9a8795</td>\n",
       "      <td>1.541664e+12</td>\n",
       "      <td>...</td>\n",
       "      <td>1.541664e+12</td>\n",
       "      <td>1.0</td>\n",
       "      <td>Gaming for fun</td>\n",
       "      <td>no worries</td>\n",
       "      <td>super happy</td>\n",
       "      <td>144900104.0</td>\n",
       "      <td>54784.0</td>\n",
       "      <td>8.458481e+12</td>\n",
       "      <td>1.450149e+08</td>\n",
       "      <td>0</td>\n",
       "    </tr>\n",
       "  </tbody>\n",
       "</table>\n",
       "<p>5 rows × 22 columns</p>\n",
       "</div>"
      ],
      "text/plain": [
       "                    user_id            hjHandle  spellScore  amplitude_id  \\\n",
       "0  5bdc6e23e6b52c1e197b08b5         raghavrathi         0.0   71235384773   \n",
       "2  5be1afae917ca24330e8bc4c          test123584         0.0   71649696909   \n",
       "3  5be1b7044ac7051ceedad817          anaghsoman         0.0   71653426478   \n",
       "4  5be1b75de870d652b20843f1          itzmimi143         0.0   71653590330   \n",
       "5  5be1b79e2e88e4409f473489  nandakishornair441         0.0   71653788278   \n",
       "\n",
       "                    haikuId        l1time                     l1uid  \\\n",
       "0  5be6fae09a79e23e40d71b47  1.541864e+12  5be6fae09a79e23e40d71b47   \n",
       "2  5be1afcca21c5764599163ae  1.541517e+12  5be1afcca21c5764599163ae   \n",
       "3  5be1b74574386147ef9a85b5  1.541519e+12  5be1b74574386147ef9a85b5   \n",
       "4  5be1b81c4ac7051ceedada80  1.541519e+12  5be1b81c4ac7051ceedada80   \n",
       "5  5be1b7e574386147ef9a8795  1.541519e+12  5be1b7e574386147ef9a8795   \n",
       "\n",
       "         l2time                     l2uid        l3time  ...   \\\n",
       "0  1.541864e+12  5be6fae09a79e23e40d71b47  1.541864e+12  ...    \n",
       "2  1.541517e+12  5be1afcca21c5764599163ae  1.541518e+12  ...    \n",
       "3  1.541630e+12  5be1b74574386147ef9a85b5  1.541631e+12  ...    \n",
       "4  1.541520e+12  5be1b81c4ac7051ceedada80  1.541520e+12  ...    \n",
       "5  1.541664e+12  5be1b7e574386147ef9a8795  1.541664e+12  ...    \n",
       "\n",
       "  timeStampComment  totalJams                           line1  \\\n",
       "0     1.000000e+13        2.0            angel of the morning   \n",
       "2     1.541518e+12        2.0                   I love eating   \n",
       "3     1.541631e+12        3.0  A chilly hotness subduing hate   \n",
       "4     1.000000e+13      313.0  Innocent me and innocent world   \n",
       "5     1.541664e+12        1.0                  Gaming for fun   \n",
       "\n",
       "                                          line2  \\\n",
       "0                    staring through the window   \n",
       "2                           Roasted pig and cow   \n",
       "3            just good enough for a decent date   \n",
       "4  lollipops, stuff toys, and playmates I enjoy   \n",
       "5                                    no worries   \n",
       "\n",
       "                                line3           t1         t2            tl  \\\n",
       "0                         sweet breez      73343.0    94076.0  2.966910e+05   \n",
       "2              what about her \"meow\"😂      36539.0   359980.0  8.458483e+12   \n",
       "3           which is not been so,late  110536234.0  1081126.0  8.458481e+12   \n",
       "4  lunchboxes packed with maa's love.     401022.0   432404.0  8.515230e+05   \n",
       "5                         super happy  144900104.0    54784.0  8.458481e+12   \n",
       "\n",
       "             tc  pass  \n",
       "0  8.458136e+12     0  \n",
       "2  4.566060e+05     0  \n",
       "3  1.116775e+08     1  \n",
       "4  8.458481e+12     1  \n",
       "5  1.450149e+08     0  \n",
       "\n",
       "[5 rows x 22 columns]"
      ]
     },
     "execution_count": 80,
     "metadata": {},
     "output_type": "execute_result"
    }
   ],
   "source": [
    "df.head()"
   ]
  },
  {
   "cell_type": "code",
   "execution_count": null,
   "metadata": {},
   "outputs": [],
   "source": []
  },
  {
   "cell_type": "code",
   "execution_count": 81,
   "metadata": {},
   "outputs": [
    {
     "data": {
      "text/plain": [
       "(3654, 22)"
      ]
     },
     "execution_count": 81,
     "metadata": {},
     "output_type": "execute_result"
    }
   ],
   "source": [
    "df[df['pass']==0].shape"
   ]
  },
  {
   "cell_type": "code",
   "execution_count": 82,
   "metadata": {},
   "outputs": [],
   "source": [
    "# from sklearn.linear_model import LogisticRegressionCV\n",
    "# X=df[['tf','t2','t1','spellScore']]\n",
    "# y=df[['pass']]\n",
    "# clf = LogisticRegressionCV(cv=5, random_state=0,multi_class='multinomial').fit(X, y)\n",
    "# clf.score(X, y) "
   ]
  },
  {
   "cell_type": "code",
   "execution_count": null,
   "metadata": {},
   "outputs": [],
   "source": []
  },
  {
   "cell_type": "code",
   "execution_count": 83,
   "metadata": {
    "scrolled": true
   },
   "outputs": [
    {
     "name": "stdout",
     "output_type": "stream",
     "text": [
      "[[-2.83664411e-19 -5.15278640e-19  3.11012968e-26 -6.26077380e-15\n",
      "   2.38740780e-13]]\n",
      "[1.24397639e-25]\n",
      "-0.020448621201620117\n",
      "-0.006174784135572871\n"
     ]
    }
   ],
   "source": [
    "from sklearn.linear_model import LogisticRegression\n",
    "# X=dtf[['tf','t2','t1','spellScore']]\n",
    "X=dtf.drop(['pass','totalJams'], axis=1)\n",
    "y=dtf[['pass']]\n",
    "clf = LogisticRegression().fit(X, y)\n",
    "# clf.score(X, y) \n",
    "print clf.coef_\n",
    "print clf.intercept_\n",
    "print np.corrcoef(X['t1'],y['pass'])[0, 1]\n",
    "print np.corrcoef(X['t2'],y['pass'])[0, 1]\n",
    "# print np.corrcoef(X['tf'],y['pass'])[0, 1]\n",
    "# print np.corrcoef(X['tl'],y['pass'])[0, 1]\n",
    "# print np.corrcoef(X['tc'],y['pass'])[0, 1]"
   ]
  },
  {
   "cell_type": "code",
   "execution_count": 84,
   "metadata": {},
   "outputs": [
    {
     "name": "stdout",
     "output_type": "stream",
     "text": [
      "[0.88280881 0.48676396 0.4867706  ... 0.50000002 0.50000008 0.50000005]\n"
     ]
    }
   ],
   "source": [
    "\n",
    "# print clf.predict_proba([[167419,94076,73343,1]])\n",
    "print clf.predict_proba(X)[:,1]\n",
    "\n",
    "X['prob1']=clf.predict_proba(X)[:,1]\n",
    "X['pass']=y['pass']"
   ]
  },
  {
   "cell_type": "code",
   "execution_count": 85,
   "metadata": {},
   "outputs": [
    {
     "data": {
      "text/html": [
       "<div>\n",
       "<style scoped>\n",
       "    .dataframe tbody tr th:only-of-type {\n",
       "        vertical-align: middle;\n",
       "    }\n",
       "\n",
       "    .dataframe tbody tr th {\n",
       "        vertical-align: top;\n",
       "    }\n",
       "\n",
       "    .dataframe thead th {\n",
       "        text-align: right;\n",
       "    }\n",
       "</style>\n",
       "<table border=\"1\" class=\"dataframe\">\n",
       "  <thead>\n",
       "    <tr style=\"text-align: right;\">\n",
       "      <th></th>\n",
       "      <th>t2</th>\n",
       "      <th>t1</th>\n",
       "      <th>spellScore</th>\n",
       "      <th>tl</th>\n",
       "      <th>tc</th>\n",
       "      <th>prob1</th>\n",
       "      <th>pass</th>\n",
       "    </tr>\n",
       "  </thead>\n",
       "  <tbody>\n",
       "    <tr>\n",
       "      <th>0</th>\n",
       "      <td>94076.0</td>\n",
       "      <td>73343.0</td>\n",
       "      <td>0.0</td>\n",
       "      <td>2.966910e+05</td>\n",
       "      <td>8.458136e+12</td>\n",
       "      <td>0.882809</td>\n",
       "      <td>0</td>\n",
       "    </tr>\n",
       "    <tr>\n",
       "      <th>2</th>\n",
       "      <td>359980.0</td>\n",
       "      <td>36539.0</td>\n",
       "      <td>0.0</td>\n",
       "      <td>8.458483e+12</td>\n",
       "      <td>4.566060e+05</td>\n",
       "      <td>0.486764</td>\n",
       "      <td>0</td>\n",
       "    </tr>\n",
       "    <tr>\n",
       "      <th>3</th>\n",
       "      <td>1081126.0</td>\n",
       "      <td>110536234.0</td>\n",
       "      <td>0.0</td>\n",
       "      <td>8.458481e+12</td>\n",
       "      <td>1.116775e+08</td>\n",
       "      <td>0.486771</td>\n",
       "      <td>1</td>\n",
       "    </tr>\n",
       "    <tr>\n",
       "      <th>4</th>\n",
       "      <td>432404.0</td>\n",
       "      <td>401022.0</td>\n",
       "      <td>0.0</td>\n",
       "      <td>8.515230e+05</td>\n",
       "      <td>8.458481e+12</td>\n",
       "      <td>0.882817</td>\n",
       "      <td>1</td>\n",
       "    </tr>\n",
       "    <tr>\n",
       "      <th>5</th>\n",
       "      <td>54784.0</td>\n",
       "      <td>144900104.0</td>\n",
       "      <td>0.0</td>\n",
       "      <td>8.458481e+12</td>\n",
       "      <td>1.450149e+08</td>\n",
       "      <td>0.486773</td>\n",
       "      <td>0</td>\n",
       "    </tr>\n",
       "  </tbody>\n",
       "</table>\n",
       "</div>"
      ],
      "text/plain": [
       "          t2           t1  spellScore            tl            tc     prob1  \\\n",
       "0    94076.0      73343.0         0.0  2.966910e+05  8.458136e+12  0.882809   \n",
       "2   359980.0      36539.0         0.0  8.458483e+12  4.566060e+05  0.486764   \n",
       "3  1081126.0  110536234.0         0.0  8.458481e+12  1.116775e+08  0.486771   \n",
       "4   432404.0     401022.0         0.0  8.515230e+05  8.458481e+12  0.882817   \n",
       "5    54784.0  144900104.0         0.0  8.458481e+12  1.450149e+08  0.486773   \n",
       "\n",
       "   pass  \n",
       "0     0  \n",
       "2     0  \n",
       "3     1  \n",
       "4     1  \n",
       "5     0  "
      ]
     },
     "execution_count": 85,
     "metadata": {},
     "output_type": "execute_result"
    }
   ],
   "source": [
    "X.head()"
   ]
  },
  {
   "cell_type": "code",
   "execution_count": 86,
   "metadata": {},
   "outputs": [],
   "source": [
    "X.to_csv('result.csv')"
   ]
  },
  {
   "cell_type": "code",
   "execution_count": 90,
   "metadata": {},
   "outputs": [
    {
     "ename": "ValueError",
     "evalue": "X has 7 features per sample; expecting 5",
     "output_type": "error",
     "traceback": [
      "\u001b[0;31m---------------------------------------------------------------------------\u001b[0m",
      "\u001b[0;31mValueError\u001b[0m                                Traceback (most recent call last)",
      "\u001b[0;32m<ipython-input-90-fd507f466230>\u001b[0m in \u001b[0;36m<module>\u001b[0;34m()\u001b[0m\n\u001b[0;32m----> 1\u001b[0;31m \u001b[0;32mprint\u001b[0m \u001b[0mclf\u001b[0m\u001b[0;34m.\u001b[0m\u001b[0mpredict_proba\u001b[0m\u001b[0;34m(\u001b[0m\u001b[0mX\u001b[0m\u001b[0;34m)\u001b[0m\u001b[0;34m\u001b[0m\u001b[0m\n\u001b[0m",
      "\u001b[0;32m/usr/local/lib/python2.7/dist-packages/sklearn/linear_model/logistic.pyc\u001b[0m in \u001b[0;36mpredict_proba\u001b[0;34m(self, X)\u001b[0m\n\u001b[1;32m   1405\u001b[0m                                                 self.solver == 'liblinear')))\n\u001b[1;32m   1406\u001b[0m         \u001b[0;32mif\u001b[0m \u001b[0movr\u001b[0m\u001b[0;34m:\u001b[0m\u001b[0;34m\u001b[0m\u001b[0m\n\u001b[0;32m-> 1407\u001b[0;31m             \u001b[0;32mreturn\u001b[0m \u001b[0msuper\u001b[0m\u001b[0;34m(\u001b[0m\u001b[0mLogisticRegression\u001b[0m\u001b[0;34m,\u001b[0m \u001b[0mself\u001b[0m\u001b[0;34m)\u001b[0m\u001b[0;34m.\u001b[0m\u001b[0m_predict_proba_lr\u001b[0m\u001b[0;34m(\u001b[0m\u001b[0mX\u001b[0m\u001b[0;34m)\u001b[0m\u001b[0;34m\u001b[0m\u001b[0m\n\u001b[0m\u001b[1;32m   1408\u001b[0m         \u001b[0;32melse\u001b[0m\u001b[0;34m:\u001b[0m\u001b[0;34m\u001b[0m\u001b[0m\n\u001b[1;32m   1409\u001b[0m             \u001b[0mdecision\u001b[0m \u001b[0;34m=\u001b[0m \u001b[0mself\u001b[0m\u001b[0;34m.\u001b[0m\u001b[0mdecision_function\u001b[0m\u001b[0;34m(\u001b[0m\u001b[0mX\u001b[0m\u001b[0;34m)\u001b[0m\u001b[0;34m\u001b[0m\u001b[0m\n",
      "\u001b[0;32m/usr/local/lib/python2.7/dist-packages/sklearn/linear_model/base.pyc\u001b[0m in \u001b[0;36m_predict_proba_lr\u001b[0;34m(self, X)\u001b[0m\n\u001b[1;32m    293\u001b[0m         \u001b[0mmulticlass\u001b[0m \u001b[0;32mis\u001b[0m \u001b[0mhandled\u001b[0m \u001b[0mby\u001b[0m \u001b[0mnormalizing\u001b[0m \u001b[0mthat\u001b[0m \u001b[0mover\u001b[0m \u001b[0mall\u001b[0m \u001b[0mclasses\u001b[0m\u001b[0;34m.\u001b[0m\u001b[0;34m\u001b[0m\u001b[0m\n\u001b[1;32m    294\u001b[0m         \"\"\"\n\u001b[0;32m--> 295\u001b[0;31m         \u001b[0mprob\u001b[0m \u001b[0;34m=\u001b[0m \u001b[0mself\u001b[0m\u001b[0;34m.\u001b[0m\u001b[0mdecision_function\u001b[0m\u001b[0;34m(\u001b[0m\u001b[0mX\u001b[0m\u001b[0;34m)\u001b[0m\u001b[0;34m\u001b[0m\u001b[0m\n\u001b[0m\u001b[1;32m    296\u001b[0m         \u001b[0mprob\u001b[0m \u001b[0;34m*=\u001b[0m \u001b[0;34m-\u001b[0m\u001b[0;36m1\u001b[0m\u001b[0;34m\u001b[0m\u001b[0m\n\u001b[1;32m    297\u001b[0m         \u001b[0mnp\u001b[0m\u001b[0;34m.\u001b[0m\u001b[0mexp\u001b[0m\u001b[0;34m(\u001b[0m\u001b[0mprob\u001b[0m\u001b[0;34m,\u001b[0m \u001b[0mprob\u001b[0m\u001b[0;34m)\u001b[0m\u001b[0;34m\u001b[0m\u001b[0m\n",
      "\u001b[0;32m/usr/local/lib/python2.7/dist-packages/sklearn/linear_model/base.pyc\u001b[0m in \u001b[0;36mdecision_function\u001b[0;34m(self, X)\u001b[0m\n\u001b[1;32m    260\u001b[0m         \u001b[0;32mif\u001b[0m \u001b[0mX\u001b[0m\u001b[0;34m.\u001b[0m\u001b[0mshape\u001b[0m\u001b[0;34m[\u001b[0m\u001b[0;36m1\u001b[0m\u001b[0;34m]\u001b[0m \u001b[0;34m!=\u001b[0m \u001b[0mn_features\u001b[0m\u001b[0;34m:\u001b[0m\u001b[0;34m\u001b[0m\u001b[0m\n\u001b[1;32m    261\u001b[0m             raise ValueError(\"X has %d features per sample; expecting %d\"\n\u001b[0;32m--> 262\u001b[0;31m                              % (X.shape[1], n_features))\n\u001b[0m\u001b[1;32m    263\u001b[0m \u001b[0;34m\u001b[0m\u001b[0m\n\u001b[1;32m    264\u001b[0m         scores = safe_sparse_dot(X, self.coef_.T,\n",
      "\u001b[0;31mValueError\u001b[0m: X has 7 features per sample; expecting 5"
     ]
    }
   ],
   "source": [
    "print clf.predict_proba(X)"
   ]
  },
  {
   "cell_type": "code",
   "execution_count": null,
   "metadata": {},
   "outputs": [],
   "source": []
  },
  {
   "cell_type": "code",
   "execution_count": null,
   "metadata": {},
   "outputs": [],
   "source": []
  },
  {
   "cell_type": "code",
   "execution_count": null,
   "metadata": {},
   "outputs": [],
   "source": []
  },
  {
   "cell_type": "code",
   "execution_count": 37,
   "metadata": {},
   "outputs": [
    {
     "data": {
      "image/png": "[encoded data removed]",
      "text/plain": [
       "<Figure size 432x288 with 1 Axes>"
      ]
     },
     "metadata": {
      "image/png": {
       "height": 258,
       "width": 373
      },
      "needs_background": "light"
     },
     "output_type": "display_data"
    }
   ],
   "source": [
    "plt.scatter(df['pass'],df['tc'])\n",
    "plt.show()"
   ]
  },
  {
   "cell_type": "code",
   "execution_count": null,
   "metadata": {},
   "outputs": [],
   "source": []
  },
  {
   "cell_type": "code",
   "execution_count": null,
   "metadata": {},
   "outputs": [],
   "source": []
  },
  {
   "cell_type": "code",
   "execution_count": 40,
   "metadata": {},
   "outputs": [],
   "source": [
    "# df.hist(column='spellScore')"
   ]
  },
  {
   "cell_type": "code",
   "execution_count": 41,
   "metadata": {},
   "outputs": [],
   "source": [
    "# df['tc'].value_counts()"
   ]
  },
  {
   "cell_type": "code",
   "execution_count": 39,
   "metadata": {},
   "outputs": [
    {
     "data": {
      "text/plain": [
       "array([[<matplotlib.axes._subplots.AxesSubplot object at 0x7f2d061999d0>]],\n",
       "      dtype=object)"
      ]
     },
     "execution_count": 39,
     "metadata": {},
     "output_type": "execute_result"
    },
    {
     "data": {
      "image/png": "[encoded data removed]",
      "text/plain": [
       "<Figure size 432x288 with 1 Axes>"
      ]
     },
     "metadata": {
      "image/png": {
       "height": 276,
       "width": 390
      },
      "needs_background": "light"
     },
     "output_type": "display_data"
    }
   ],
   "source": [
    "df.hist(column='tc')"
   ]
  },
  {
   "cell_type": "code",
   "execution_count": 36,
   "metadata": {},
   "outputs": [],
   "source": [
    "rdf=df.dropna(subset=['spellScore'], how='all')"
   ]
  },
  {
   "cell_type": "code",
   "execution_count": 37,
   "metadata": {},
   "outputs": [
    {
     "data": {
      "text/plain": [
       "(10566, 6)"
      ]
     },
     "execution_count": 37,
     "metadata": {},
     "output_type": "execute_result"
    }
   ],
   "source": [
    "rdf.shape"
   ]
  },
  {
   "cell_type": "code",
   "execution_count": 38,
   "metadata": {},
   "outputs": [
    {
     "data": {
      "text/html": [
       "<div>\n",
       "<style scoped>\n",
       "    .dataframe tbody tr th:only-of-type {\n",
       "        vertical-align: middle;\n",
       "    }\n",
       "\n",
       "    .dataframe tbody tr th {\n",
       "        vertical-align: top;\n",
       "    }\n",
       "\n",
       "    .dataframe thead th {\n",
       "        text-align: right;\n",
       "    }\n",
       "</style>\n",
       "<table border=\"1\" class=\"dataframe\">\n",
       "  <thead>\n",
       "    <tr style=\"text-align: right;\">\n",
       "      <th></th>\n",
       "      <th>tf</th>\n",
       "      <th>t2</th>\n",
       "      <th>t1</th>\n",
       "      <th>spellScore</th>\n",
       "      <th>pass</th>\n",
       "      <th>totalJams</th>\n",
       "    </tr>\n",
       "  </thead>\n",
       "  <tbody>\n",
       "    <tr>\n",
       "      <th>0</th>\n",
       "      <td>241428.0</td>\n",
       "      <td>179705.0</td>\n",
       "      <td>61723.0</td>\n",
       "      <td>0.000000</td>\n",
       "      <td>1</td>\n",
       "      <td>808.0</td>\n",
       "    </tr>\n",
       "    <tr>\n",
       "      <th>2</th>\n",
       "      <td>738424.0</td>\n",
       "      <td>122634.0</td>\n",
       "      <td>615790.0</td>\n",
       "      <td>0.000000</td>\n",
       "      <td>1</td>\n",
       "      <td>109.0</td>\n",
       "    </tr>\n",
       "    <tr>\n",
       "      <th>3</th>\n",
       "      <td>1266098.0</td>\n",
       "      <td>916137.0</td>\n",
       "      <td>349961.0</td>\n",
       "      <td>0.000000</td>\n",
       "      <td>1</td>\n",
       "      <td>670.0</td>\n",
       "    </tr>\n",
       "    <tr>\n",
       "      <th>4</th>\n",
       "      <td>60945.0</td>\n",
       "      <td>43176.0</td>\n",
       "      <td>17769.0</td>\n",
       "      <td>0.562963</td>\n",
       "      <td>1</td>\n",
       "      <td>784.0</td>\n",
       "    </tr>\n",
       "    <tr>\n",
       "      <th>5</th>\n",
       "      <td>878052.0</td>\n",
       "      <td>771565.0</td>\n",
       "      <td>106487.0</td>\n",
       "      <td>0.134705</td>\n",
       "      <td>1</td>\n",
       "      <td>227.0</td>\n",
       "    </tr>\n",
       "  </tbody>\n",
       "</table>\n",
       "</div>"
      ],
      "text/plain": [
       "          tf        t2        t1  spellScore  pass  totalJams\n",
       "0   241428.0  179705.0   61723.0    0.000000     1      808.0\n",
       "2   738424.0  122634.0  615790.0    0.000000     1      109.0\n",
       "3  1266098.0  916137.0  349961.0    0.000000     1      670.0\n",
       "4    60945.0   43176.0   17769.0    0.562963     1      784.0\n",
       "5   878052.0  771565.0  106487.0    0.134705     1      227.0"
      ]
     },
     "execution_count": 38,
     "metadata": {},
     "output_type": "execute_result"
    }
   ],
   "source": [
    "df.head()"
   ]
  },
  {
   "cell_type": "code",
   "execution_count": 39,
   "metadata": {},
   "outputs": [],
   "source": [
    "rdf=rdf.fillna(99999999999.0)"
   ]
  },
  {
   "cell_type": "code",
   "execution_count": 34,
   "metadata": {},
   "outputs": [],
   "source": [
    "# rdf.isnull().any"
   ]
  },
  {
   "cell_type": "code",
   "execution_count": 46,
   "metadata": {},
   "outputs": [
    {
     "ename": "ValueError",
     "evalue": "Solver liblinear does not support a multinomial backend.",
     "output_type": "error",
     "traceback": [
      "\u001b[0;31m---------------------------------------------------------------------------\u001b[0m",
      "\u001b[0;31mValueError\u001b[0m                                Traceback (most recent call last)",
      "\u001b[0;32m<ipython-input-46-b60b1442cb35>\u001b[0m in \u001b[0;36m<module>\u001b[0;34m()\u001b[0m\n\u001b[1;32m      2\u001b[0m \u001b[0mX\u001b[0m\u001b[0;34m=\u001b[0m\u001b[0mrdf\u001b[0m\u001b[0;34m[\u001b[0m\u001b[0;34m[\u001b[0m\u001b[0;34m'tf'\u001b[0m\u001b[0;34m,\u001b[0m\u001b[0;34m't2'\u001b[0m\u001b[0;34m,\u001b[0m\u001b[0;34m't1'\u001b[0m\u001b[0;34m,\u001b[0m\u001b[0;34m'spellScore'\u001b[0m\u001b[0;34m]\u001b[0m\u001b[0;34m]\u001b[0m\u001b[0;34m\u001b[0m\u001b[0m\n\u001b[1;32m      3\u001b[0m \u001b[0my\u001b[0m\u001b[0;34m=\u001b[0m\u001b[0mrdf\u001b[0m\u001b[0;34m[\u001b[0m\u001b[0;34m[\u001b[0m\u001b[0;34m'pass'\u001b[0m\u001b[0;34m]\u001b[0m\u001b[0;34m]\u001b[0m\u001b[0;34m\u001b[0m\u001b[0m\n\u001b[0;32m----> 4\u001b[0;31m \u001b[0mclf\u001b[0m \u001b[0;34m=\u001b[0m \u001b[0mLogisticRegression\u001b[0m\u001b[0;34m(\u001b[0m\u001b[0mrandom_state\u001b[0m\u001b[0;34m=\u001b[0m\u001b[0;36m0\u001b[0m\u001b[0;34m,\u001b[0m\u001b[0mmulti_class\u001b[0m\u001b[0;34m=\u001b[0m\u001b[0;34m'multinomial'\u001b[0m\u001b[0;34m)\u001b[0m\u001b[0;34m.\u001b[0m\u001b[0mfit\u001b[0m\u001b[0;34m(\u001b[0m\u001b[0mX\u001b[0m\u001b[0;34m,\u001b[0m \u001b[0my\u001b[0m\u001b[0;34m)\u001b[0m\u001b[0;34m\u001b[0m\u001b[0m\n\u001b[0m\u001b[1;32m      5\u001b[0m \u001b[0mclf\u001b[0m\u001b[0;34m.\u001b[0m\u001b[0mscore\u001b[0m\u001b[0;34m(\u001b[0m\u001b[0mX\u001b[0m\u001b[0;34m,\u001b[0m \u001b[0my\u001b[0m\u001b[0;34m)\u001b[0m\u001b[0;34m\u001b[0m\u001b[0m\n",
      "\u001b[0;32m/usr/local/lib/python2.7/dist-packages/sklearn/linear_model/logistic.pyc\u001b[0m in \u001b[0;36mfit\u001b[0;34m(self, X, y, sample_weight)\u001b[0m\n\u001b[1;32m   1288\u001b[0m \u001b[0;34m\u001b[0m\u001b[0m\n\u001b[1;32m   1289\u001b[0m         multi_class = _check_multi_class(self.multi_class, solver,\n\u001b[0;32m-> 1290\u001b[0;31m                                          len(self.classes_))\n\u001b[0m\u001b[1;32m   1291\u001b[0m \u001b[0;34m\u001b[0m\u001b[0m\n\u001b[1;32m   1292\u001b[0m         \u001b[0;32mif\u001b[0m \u001b[0msolver\u001b[0m \u001b[0;34m==\u001b[0m \u001b[0;34m'liblinear'\u001b[0m\u001b[0;34m:\u001b[0m\u001b[0;34m\u001b[0m\u001b[0m\n",
      "\u001b[0;32m/usr/local/lib/python2.7/dist-packages/sklearn/linear_model/logistic.pyc\u001b[0m in \u001b[0;36m_check_multi_class\u001b[0;34m(multi_class, solver, n_classes)\u001b[0m\n\u001b[1;32m    470\u001b[0m     \u001b[0;32mif\u001b[0m \u001b[0mmulti_class\u001b[0m \u001b[0;34m==\u001b[0m \u001b[0;34m'multinomial'\u001b[0m \u001b[0;32mand\u001b[0m \u001b[0msolver\u001b[0m \u001b[0;34m==\u001b[0m \u001b[0;34m'liblinear'\u001b[0m\u001b[0;34m:\u001b[0m\u001b[0;34m\u001b[0m\u001b[0m\n\u001b[1;32m    471\u001b[0m         raise ValueError(\"Solver %s does not support \"\n\u001b[0;32m--> 472\u001b[0;31m                          \"a multinomial backend.\" % solver)\n\u001b[0m\u001b[1;32m    473\u001b[0m     \u001b[0;32mreturn\u001b[0m \u001b[0mmulti_class\u001b[0m\u001b[0;34m\u001b[0m\u001b[0m\n\u001b[1;32m    474\u001b[0m \u001b[0;34m\u001b[0m\u001b[0m\n",
      "\u001b[0;31mValueError\u001b[0m: Solver liblinear does not support a multinomial backend."
     ]
    }
   ],
   "source": []
  },
  {
   "cell_type": "code",
   "execution_count": 45,
   "metadata": {},
   "outputs": [
    {
     "name": "stdout",
     "output_type": "stream",
     "text": [
      "[[-4.52543081e-10  4.41425079e-10  3.57964631e-16]]\n",
      "[2.25094251e-15]\n"
     ]
    }
   ],
   "source": [
    "print clf.coef_\n",
    "print clf.intercept_\n",
    "\n",
    "\n",
    "# m = clf.coef_[0,0]\n",
    "# b = clf.intercept_[0]\n",
    "\n",
    "# #generate values for curve overlay\n",
    "# lgs_curve = lambda x: 1/(1 + math.e**(-(m*x+b)))         \n",
    "# x_values = np.linspace(2, 10, 100)\n",
    "# y_values = lgs_curve(x_values)\n",
    "\n",
    "# #plot it\n",
    "# # plt.plot(x_values, y_values)\n",
    "# plt.scatter(rdf['t1'], rdf['pass'], c='r', s=.01)\n",
    "# # plt.xlabel(\"t1\")\n",
    "# # plt.ylabel(\"\")\n"
   ]
  },
  {
   "cell_type": "code",
   "execution_count": 24,
   "metadata": {
    "scrolled": true
   },
   "outputs": [
    {
     "ename": "NameError",
     "evalue": "name 'clf' is not defined",
     "output_type": "error",
     "traceback": [
      "\u001b[0;31m---------------------------------------------------------------------------\u001b[0m",
      "\u001b[0;31mNameError\u001b[0m                                 Traceback (most recent call last)",
      "\u001b[0;32m<ipython-input-24-f59fadb8340b>\u001b[0m in \u001b[0;36m<module>\u001b[0;34m()\u001b[0m\n\u001b[0;32m----> 1\u001b[0;31m \u001b[0mclf\u001b[0m\u001b[0;34m.\u001b[0m\u001b[0mget_params\u001b[0m\u001b[0;34m(\u001b[0m\u001b[0mdeep\u001b[0m\u001b[0;34m=\u001b[0m\u001b[0mTrue\u001b[0m\u001b[0;34m)\u001b[0m\u001b[0;34m\u001b[0m\u001b[0m\n\u001b[0m",
      "\u001b[0;31mNameError\u001b[0m: name 'clf' is not defined"
     ]
    }
   ],
   "source": [
    "clf.get_params(deep=True)"
   ]
  },
  {
   "cell_type": "code",
   "execution_count": 25,
   "metadata": {},
   "outputs": [
    {
     "ename": "NameError",
     "evalue": "name 'clf' is not defined",
     "output_type": "error",
     "traceback": [
      "\u001b[0;31m---------------------------------------------------------------------------\u001b[0m",
      "\u001b[0;31mNameError\u001b[0m                                 Traceback (most recent call last)",
      "\u001b[0;32m<ipython-input-25-15a005d2dffd>\u001b[0m in \u001b[0;36m<module>\u001b[0;34m()\u001b[0m\n\u001b[0;32m----> 1\u001b[0;31m \u001b[0;32mprint\u001b[0m \u001b[0mclf\u001b[0m\u001b[0;34m.\u001b[0m\u001b[0mcoef_\u001b[0m\u001b[0;34m\u001b[0m\u001b[0m\n\u001b[0m",
      "\u001b[0;31mNameError\u001b[0m: name 'clf' is not defined"
     ]
    }
   ],
   "source": [
    "print clf.coef_ "
   ]
  },
  {
   "cell_type": "code",
   "execution_count": 26,
   "metadata": {},
   "outputs": [
    {
     "ename": "NameError",
     "evalue": "name 'clf' is not defined",
     "output_type": "error",
     "traceback": [
      "\u001b[0;31m---------------------------------------------------------------------------\u001b[0m",
      "\u001b[0;31mNameError\u001b[0m                                 Traceback (most recent call last)",
      "\u001b[0;32m<ipython-input-26-023e9ad57152>\u001b[0m in \u001b[0;36m<module>\u001b[0;34m()\u001b[0m\n\u001b[0;32m----> 1\u001b[0;31m \u001b[0;32mprint\u001b[0m \u001b[0mclf\u001b[0m\u001b[0;34m.\u001b[0m\u001b[0mscores_\u001b[0m\u001b[0;34m\u001b[0m\u001b[0m\n\u001b[0m",
      "\u001b[0;31mNameError\u001b[0m: name 'clf' is not defined"
     ]
    }
   ],
   "source": [
    "print clf.scores_"
   ]
  },
  {
   "cell_type": "code",
   "execution_count": 27,
   "metadata": {},
   "outputs": [
    {
     "data": {
      "text/plain": [
       "(10566, 1)"
      ]
     },
     "execution_count": 27,
     "metadata": {},
     "output_type": "execute_result"
    }
   ],
   "source": [
    "y.shape"
   ]
  },
  {
   "cell_type": "code",
   "execution_count": 28,
   "metadata": {},
   "outputs": [
    {
     "name": "stdout",
     "output_type": "stream",
     "text": [
      "(-0.3269449722749312, 1.1153508630301523e-261)\n",
      "(-0.3269452693173211, 1.114069350428311e-261)\n"
     ]
    }
   ],
   "source": [
    "from pydoc import help\n",
    "from scipy.stats.stats import pearsonr\n",
    "# print pearsonr(X['tf'],y)\n",
    "print pearsonr(X['t1'],y['pass'])\n",
    "print pearsonr(X['t2'],y['pass'])"
   ]
  },
  {
   "cell_type": "code",
   "execution_count": 29,
   "metadata": {},
   "outputs": [
    {
     "name": "stdout",
     "output_type": "stream",
     "text": [
      "-0.3269449722749317\n",
      "-0.32694526931732154\n",
      "-0.32694305208874236\n"
     ]
    }
   ],
   "source": [
    "import numpy\n",
    "print numpy.corrcoef(X['t1'],y['pass'])[0, 1]\n",
    "print numpy.corrcoef(X['t2'],y['pass'])[0, 1]\n",
    "print numpy.corrcoef(X['tf'],y['pass'])[0, 1]"
   ]
  },
  {
   "cell_type": "code",
   "execution_count": 30,
   "metadata": {},
   "outputs": [
    {
     "data": {
      "text/html": [
       "<div>\n",
       "<style scoped>\n",
       "    .dataframe tbody tr th:only-of-type {\n",
       "        vertical-align: middle;\n",
       "    }\n",
       "\n",
       "    .dataframe tbody tr th {\n",
       "        vertical-align: top;\n",
       "    }\n",
       "\n",
       "    .dataframe thead th {\n",
       "        text-align: right;\n",
       "    }\n",
       "</style>\n",
       "<table border=\"1\" class=\"dataframe\">\n",
       "  <thead>\n",
       "    <tr style=\"text-align: right;\">\n",
       "      <th></th>\n",
       "      <th>pass</th>\n",
       "    </tr>\n",
       "  </thead>\n",
       "  <tbody>\n",
       "    <tr>\n",
       "      <th>0</th>\n",
       "      <td>1</td>\n",
       "    </tr>\n",
       "    <tr>\n",
       "      <th>2</th>\n",
       "      <td>1</td>\n",
       "    </tr>\n",
       "    <tr>\n",
       "      <th>3</th>\n",
       "      <td>1</td>\n",
       "    </tr>\n",
       "    <tr>\n",
       "      <th>4</th>\n",
       "      <td>1</td>\n",
       "    </tr>\n",
       "    <tr>\n",
       "      <th>5</th>\n",
       "      <td>1</td>\n",
       "    </tr>\n",
       "  </tbody>\n",
       "</table>\n",
       "</div>"
      ],
      "text/plain": [
       "   pass\n",
       "0     1\n",
       "2     1\n",
       "3     1\n",
       "4     1\n",
       "5     1"
      ]
     },
     "execution_count": 30,
     "metadata": {},
     "output_type": "execute_result"
    }
   ],
   "source": [
    "y.head()"
   ]
  },
  {
   "cell_type": "code",
   "execution_count": 31,
   "metadata": {},
   "outputs": [
    {
     "data": {
      "text/plain": [
       "(10566,)"
      ]
     },
     "execution_count": 31,
     "metadata": {},
     "output_type": "execute_result"
    }
   ],
   "source": [
    "X['t1'].shape"
   ]
  },
  {
   "cell_type": "code",
   "execution_count": null,
   "metadata": {},
   "outputs": [],
   "source": []
  }
 ],
 "metadata": {
  "kernelspec": {
   "display_name": "Python 2",
   "language": "python",
   "name": "python2"
  },
  "language_info": {
   "codemirror_mode": {
    "name": "ipython",
    "version": 2
   },
   "file_extension": ".py",
   "mimetype": "text/x-python",
   "name": "python",
   "nbconvert_exporter": "python",
   "pygments_lexer": "ipython2",
   "version": "2.7.12"
  }
 },
 "nbformat": 4,
 "nbformat_minor": 2
}
